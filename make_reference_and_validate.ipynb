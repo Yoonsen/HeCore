{
 "cells": [
  {
   "cell_type": "markdown",
   "metadata": {},
   "source": [
    "# Kollokasjoner for nøkkelord"
   ]
  },
  {
   "cell_type": "code",
   "execution_count": 1,
   "metadata": {},
   "outputs": [],
   "source": [
    "import dhlab.nbtext as nb\n",
    "import dhlab.module_update as mu\n",
    "import dhlab.graph_networkx_louvain as gnl\n",
    "from dhlab.module_update import update, css, code_toggle"
   ]
  },
  {
   "cell_type": "code",
   "execution_count": 2,
   "metadata": {},
   "outputs": [
    {
     "data": {
      "text/html": [
       "<style>@import url(\n",
       "http://fonts.googleapis.com/css?family=Lato|Philosopher|Montserrat|Source+Code+Pro|Istok+Web|Philosopher|Assistant:200,400,700);\n",
       "\n",
       "/*\n",
       "#notebook-container {\n",
       "\t-webkit-box-shadow: none;\n",
       "\tbox-shadow: none;\n",
       "}\n",
       "*/\n",
       "\n",
       "h1, h2, h3, h4, h5, h6 {\n",
       "\tfont-family: 'Montserrat', sans-serif;\n",
       "\tline-height: 2em;\n",
       "    color: #004f99;\n",
       "    font-weight: 600;\n",
       "}\n",
       "\n",
       "h1 { font-size: 4.5em; }\n",
       "h2 { font-size: 4em; }\n",
       "h3 { font-size: 3.5em; }\n",
       "h4 { font-size: 3em; }\n",
       "h5 { font-size: 2.5em; color:DarkSlateGray; }\n",
       "h6 { font-size: 2em; }\n",
       "\n",
       "p {\n",
       "\tfont-family: 'Assistant', sans-serif; \n",
       "\tfont-size: 1.2em;\n",
       "\tline-height: 1.4em;\n",
       "\tcolor: black;\n",
       "}\n",
       "p code {\n",
       "\tfont-size:0.9em;\n",
       "}\n",
       "div.input_area {\n",
       "\tborder:none !important;\n",
       "\tborder-left:1px solid #ff851b !important\n",
       "}\n",
       "\n",
       "span.cm-keyword {\n",
       "\tcolor:#339966 !important;\n",
       "}\n",
       "span.nn {  /*span.cm-variable, span.cm-property*/\n",
       "\tcolor: #3399ff !important;\n",
       "}\n",
       "div.CodeMirror {\n",
       "\tfont-family: 'Inconsolata', monospace;\n",
       "\tfont-size: 1.1em;\n",
       "\t\n",
       "}\n",
       "</style>"
      ],
      "text/plain": [
       "<IPython.core.display.HTML object>"
      ]
     },
     "execution_count": 2,
     "metadata": {},
     "output_type": "execute_result"
    }
   ],
   "source": [
    "css()"
   ]
  },
  {
   "cell_type": "code",
   "execution_count": 148,
   "metadata": {},
   "outputs": [
    {
     "data": {
      "text/html": [
       "<div>\n",
       "                <style>\n",
       "                 .mybutton {\n",
       "                    background-color: lightgrey;\n",
       "                    border: none;\n",
       "                    color: white;\n",
       "                    padding: 10px 16px;\n",
       "                    text-align: center;\n",
       "                    text-decoration: none;\n",
       "                    display: inline-block;\n",
       "                    font-size: 16px;\n",
       "                    margin: 4px 2px;\n",
       "                    cursor: pointer;\n",
       "                }\n",
       "            </style>\n",
       "            <script>\n",
       "                code_show=true; \n",
       "                function code_toggle() {\n",
       "                 if (code_show){\n",
       "                 $('div.input').hide();\n",
       "                 } else {\n",
       "                 $('div.input').show();\n",
       "                 }\n",
       "                 code_show = !code_show\n",
       "                } \n",
       "                $( document ).ready(code_toggle);\n",
       "            </script>\n",
       "            <form  action=\"javascript:code_toggle()\">\n",
       "                <input class='mybutton' type=\"submit\" value=\"Klikk for å vise/skjule kodeceller\">\n",
       "            </form>\n",
       "        </div>"
      ],
      "text/plain": [
       "<IPython.core.display.HTML object>"
      ]
     },
     "metadata": {},
     "output_type": "display_data"
    }
   ],
   "source": [
    "mu.code_toggle()"
   ]
  },
  {
   "cell_type": "code",
   "execution_count": 3,
   "metadata": {},
   "outputs": [],
   "source": [
    "def categorize(list_of_words):\n",
    "    proprium = [x for x in list_of_words if x[0].upper() == x[0]]\n",
    "    other = [x for x in list_of_words if not x in proprium]\n",
    "\n",
    "    return {'propr':proprium,\n",
    "           'other': other }\n",
    "\n",
    "def select_form(w):\n",
    "    fs = [x.split()[0] for x in nb.word_form(w)]\n",
    "    if 'verb' in fs:\n",
    "        res = 'verb'\n",
    "    elif 'subst' in fs:\n",
    "        res = 'subst'\n",
    "    elif len(fs) > 0:\n",
    "        res = fs[0]\n",
    "    else:\n",
    "        res = 'unknown'\n",
    "    return res\n",
    "\n",
    "def sort_word_forms(words):\n",
    "    res = {select_form(w):w for w in words}\n",
    "    return res\n",
    "\n",
    "def character_words(Character_name, number_of_words=50):\n",
    "    res = {w:select_form(w) for w in categorize(list(nb.frame_sort(nb.frame(coll_matrix[Character_name]/tot['tot'], 'association')).head(number_of_words).index))['other']}\n",
    "    result = {cat:[w for w in res if res[w] == cat] for cat in res.values()}\n",
    "    return result\n",
    "\n",
    "def mdprint(forskjell, cutoff=5):\n",
    "    categories = categorize(forskjell[forskjell > cutoff].dropna().index)\n",
    "    forms = {w:select_form(w) for w in categories['other']}\n",
    "    Grouping = {cat:[word for word in forms if forms[word] == cat] for cat in forms.values()}\n",
    "    navn = \"## Benevnelser \\n\"\n",
    "    navn += \"<span style='font-size:150%'>{stuff}</span>\".format(stuff= ', '.join(categories['propr']))\n",
    "    pos = \"\"\n",
    "    for cat in Grouping:\n",
    "        pos += \"## \" + cat + \"\\n\"\n",
    "        pos += \"<span style='font-size:1.1em'>{stuff}</span>\".format(stuff= ', '.join(Grouping[cat]) ) + \"\\n\"\n",
    "    mu.printmd(navn)\n",
    "    mu.printmd(pos)\n",
    "    return"
   ]
  },
  {
   "cell_type": "code",
   "execution_count": 4,
   "metadata": {},
   "outputs": [],
   "source": [
    "import pandas as pd"
   ]
  },
  {
   "cell_type": "code",
   "execution_count": 5,
   "metadata": {},
   "outputs": [],
   "source": [
    "import ast"
   ]
  },
  {
   "cell_type": "code",
   "execution_count": 6,
   "metadata": {},
   "outputs": [],
   "source": [
    "#colls_before = pd.read_json('demokrati_before.json')"
   ]
  },
  {
   "cell_type": "code",
   "execution_count": 7,
   "metadata": {},
   "outputs": [],
   "source": [
    "import warnings\n",
    "warnings.filterwarnings('ignore')"
   ]
  },
  {
   "cell_type": "code",
   "execution_count": 8,
   "metadata": {},
   "outputs": [],
   "source": [
    "import matplotlib.pyplot as plt\n",
    "plt.rcParams.update({'font.size': 20})"
   ]
  },
  {
   "cell_type": "code",
   "execution_count": 14,
   "metadata": {},
   "outputs": [],
   "source": [
    "tot = nb.frame(nb.totals(50000), 'tot')"
   ]
  },
  {
   "cell_type": "markdown",
   "metadata": {},
   "source": [
    "# Lag et referanse-korpus\n",
    "\n",
    "Det blir fryktelig stort, så "
   ]
  },
  {
   "cell_type": "code",
   "execution_count": 51,
   "metadata": {},
   "outputs": [],
   "source": [
    "r = nb.get_papers(top=5, cutoff=0, yearfrom=1950, yearto=1950)"
   ]
  },
  {
   "cell_type": "code",
   "execution_count": 52,
   "metadata": {},
   "outputs": [],
   "source": [
    "df = pd.DataFrame(r).transpose()"
   ]
  },
  {
   "cell_type": "code",
   "execution_count": 64,
   "metadata": {},
   "outputs": [
    {
     "data": {
      "text/plain": [
       "kikhoste    4.0\n",
       "dtype: float64"
      ]
     },
     "execution_count": 64,
     "metadata": {},
     "output_type": "execute_result"
    }
   ],
   "source": [
    "df.sum(axis=1).loc[[\"kikhoste\"]]"
   ]
  },
  {
   "cell_type": "code",
   "execution_count": 16,
   "metadata": {},
   "outputs": [
    {
     "name": "stdout",
     "output_type": "stream",
     "text": [
      "1950\n",
      "1951\n",
      "1952\n",
      "1953\n",
      "1954\n",
      "1955\n",
      "1956\n",
      "1957\n",
      "1958\n",
      "1959\n",
      "1960\n",
      "1961\n",
      "1962\n",
      "1963\n",
      "1964\n",
      "1965\n",
      "1966\n",
      "1967\n",
      "1968\n",
      "1969\n",
      "1970\n",
      "1971\n",
      "1972\n",
      "1973\n",
      "1974\n",
      "1975\n",
      "1976\n",
      "1977\n",
      "1978\n",
      "1979\n",
      "1980\n",
      "1981\n",
      "1982\n",
      "1983\n",
      "1984\n",
      "1985\n",
      "1986\n",
      "1987\n",
      "1988\n",
      "1989\n",
      "1990\n",
      "1991\n",
      "1992\n",
      "1993\n",
      "1994\n",
      "1995\n",
      "1996\n",
      "1997\n",
      "1998\n",
      "1999\n"
     ]
    }
   ],
   "source": [
    "reference = dict()\n",
    "step = 1\n",
    "for i in range(1950, 2000):\n",
    "    print(i)\n",
    "    reference[i] = nb.frame(nb.get_corpus(yearfrom = i, yearto = i + step, corpus = 'avis', samplesize=100).sum(axis=1), i)\n",
    "    "
   ]
  },
  {
   "cell_type": "code",
   "execution_count": 17,
   "metadata": {},
   "outputs": [],
   "source": [
    "pd.concat([reference[i] for i in reference], axis=1).to_json('avis_agg.json')"
   ]
  },
  {
   "cell_type": "code",
   "execution_count": 18,
   "metadata": {},
   "outputs": [],
   "source": [
    "aggs = pd.concat([reference[i] for i in reference], axis=1)"
   ]
  },
  {
   "cell_type": "code",
   "execution_count": 27,
   "metadata": {},
   "outputs": [
    {
     "data": {
      "text/plain": [
       "<matplotlib.axes._subplots.AxesSubplot at 0x20b9dd72860>"
      ]
     },
     "execution_count": 27,
     "metadata": {},
     "output_type": "execute_result"
    },
    {
     "data": {
      "image/png": "[encoded data removed]",
      "text/plain": [
       "<Figure size 432x288 with 1 Axes>"
      ]
     },
     "metadata": {
      "needs_background": "light"
     },
     "output_type": "display_data"
    }
   ],
   "source": [
    "aggs.loc['demokrati'].rolling(window=3).mean().plot()"
   ]
  },
  {
   "cell_type": "code",
   "execution_count": 26,
   "metadata": {},
   "outputs": [
    {
     "data": {
      "text/plain": [
       "<matplotlib.axes._subplots.AxesSubplot at 0x20b9e6cf0b8>"
      ]
     },
     "execution_count": 26,
     "metadata": {},
     "output_type": "execute_result"
    },
    {
     "data": {
      "image/png": "[encoded data removed]",
      "text/plain": [
       "<Figure size 432x288 with 1 Axes>"
      ]
     },
     "metadata": {
      "needs_background": "light"
     },
     "output_type": "display_data"
    }
   ],
   "source": [
    "nb.nb_ngram('demokrati', corpus='avis', years=(1950, 2000)).plot()"
   ]
  },
  {
   "cell_type": "code",
   "execution_count": 32,
   "metadata": {},
   "outputs": [],
   "source": [
    "def group_frames(df, bins=10, mode='rel'):\n",
    "    agg = pd.DataFrame()\n",
    "    step = 10\n",
    "    if mode.startswith('a'):\n",
    "        for i in range(0, len(df.columns), step):\n",
    "            agg[df.columns[i]] = df[df.columns[i:i+step]].sum(axis=1)\n",
    "    else:\n",
    "        nb.normalize_corpus_dataframe(aggs)\n",
    "        for i in range(0, len(df.columns), step):\n",
    "            agg[df.columns[i]] = df[df.columns[i:i+step]].mean(axis=1)\n",
    "    return agg"
   ]
  },
  {
   "cell_type": "code",
   "execution_count": null,
   "metadata": {},
   "outputs": [],
   "source": [
    "En liten validering\n",
    "Sjekker at enkelte ord har den fordelingen vi forventer, sånn at vi kan si at referansen speiler de faktiske forhold på en måte.\n",
    "\n",
    "barchart(\"likestilling\", reference);\n",
    "\n",
    "barchart(\"østers\", reference);\n",
    "\n",
    "nb.nb_ngram('østers', corpus='avis', years=(1950, 2000)).plot()\n",
    "\n",
    "barchart(\"likestilling\", reference);\n",
    "\n",
    "reference.loc['likestilling'].plot(kind='bar', rot= 0, figsize=(10,5))"
   ]
  }
 ],
 "metadata": {
  "kernelspec": {
   "display_name": "Python 3",
   "language": "python",
   "name": "python3"
  },
  "language_info": {
   "codemirror_mode": {
    "name": "ipython",
    "version": 3
   },
   "file_extension": ".py",
   "mimetype": "text/x-python",
   "name": "python",
   "nbconvert_exporter": "python",
   "pygments_lexer": "ipython3",
   "version": "3.7.3"
  }
 },
 "nbformat": 4,
 "nbformat_minor": 2
}
