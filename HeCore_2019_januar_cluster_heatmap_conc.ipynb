{
 "cells": [
  {
   "cell_type": "markdown",
   "metadata": {},
   "source": [
    "## Serieclustring for HeCore\n",
    "\n",
    "Versjon: **Januar 2019**\n",
    "\n",
    "Velg `Run all` fra Cell-menyen over. Visning av kode forsvinner, som kan toggles ved å trykke på den grå knappen nedenfor. \n",
    "\n",
    "\n",
    "En ny celle for konkordanser er lagt til. Skriv inn parametrene og trykk på knappen `Run interact`. Det er ikke sikkert alt kommer opp, men det kan vi se på. Det skal uansett være en hel del data. Visning av dataene utvikles med tanke på å se mer valg, utvidelser og innskrenkninger."
   ]
  },
  {
   "cell_type": "code",
   "execution_count": 62,
   "metadata": {},
   "outputs": [],
   "source": [
    "!curl -s https://raw.githubusercontent.com/yoonsen/modules/master/module_update.py > module_update.py"
   ]
  },
  {
   "cell_type": "code",
   "execution_count": 63,
   "metadata": {},
   "outputs": [],
   "source": [
    "from module_update import css, code_toggle, update, printmd"
   ]
  },
  {
   "cell_type": "code",
   "execution_count": 64,
   "metadata": {},
   "outputs": [
    {
     "data": {
      "text/html": [
       "<style>@import url(\n",
       "http://fonts.googleapis.com/css?family=Lato|Philosopher|Montserrat|Source+Code+Pro|Istok+Web|Philosopher|Assistant:200,400,700);\n",
       "\n",
       "/*\n",
       "#notebook-container {\n",
       "\t-webkit-box-shadow: none;\n",
       "\tbox-shadow: none;\n",
       "}\n",
       "*/\n",
       "\n",
       "h1, h2, h3, h4, h5, h6 {\n",
       "\tfont-family: 'Montserrat', sans-serif;\n",
       "\tline-height: 2em;\n",
       "    color: #004f99;\n",
       "    font-weight: 600;\n",
       "}\n",
       "\n",
       "h1 { font-size: 4.5em; }\n",
       "h2 { font-size: 4em; }\n",
       "h3 { font-size: 3.5em; }\n",
       "h4 { font-size: 3em; }\n",
       "h5 { font-size: 2.5em; color:DarkSlateGray; }\n",
       "h6 { font-size: 2em; }\n",
       "\n",
       "p {\n",
       "\tfont-family: 'Assistant', sans-serif; \n",
       "\tfont-size: 1.2em;\n",
       "\tline-height: 1.4em;\n",
       "\tcolor: black;\n",
       "}\n",
       "p code {\n",
       "\tfont-size:0.9em;\n",
       "}\n",
       "div.input_area {\n",
       "\tborder:none !important;\n",
       "\tborder-left:1px solid #ff851b !important\n",
       "}\n",
       "\n",
       "span.cm-keyword {\n",
       "\tcolor:#339966 !important;\n",
       "}\n",
       "span.nn {  /*span.cm-variable, span.cm-property*/\n",
       "\tcolor: #3399ff !important;\n",
       "}\n",
       "div.CodeMirror {\n",
       "\tfont-family: 'Inconsolata', monospace;\n",
       "\tfont-size: 1.1em;\n",
       "\t\n",
       "}\n",
       "</style>"
      ],
      "text/plain": [
       "<IPython.core.display.HTML object>"
      ]
     },
     "execution_count": 64,
     "metadata": {},
     "output_type": "execute_result"
    }
   ],
   "source": [
    "css()"
   ]
  },
  {
   "cell_type": "code",
   "execution_count": 65,
   "metadata": {},
   "outputs": [
    {
     "data": {
      "text/html": [
       "<div>\n",
       "                <style>\n",
       "                 .mybutton {\n",
       "                    background-color: lightgrey;\n",
       "                    border: none;\n",
       "                    color: white;\n",
       "                    padding: 10px 16px;\n",
       "                    text-align: center;\n",
       "                    text-decoration: none;\n",
       "                    display: inline-block;\n",
       "                    font-size: 16px;\n",
       "                    margin: 4px 2px;\n",
       "                    cursor: pointer;\n",
       "                }\n",
       "            </style>\n",
       "            <script>\n",
       "                code_show=true; \n",
       "                function code_toggle() {\n",
       "                 if (code_show){\n",
       "                 $('div.input').hide();\n",
       "                 } else {\n",
       "                 $('div.input').show();\n",
       "                 }\n",
       "                 code_show = !code_show\n",
       "                } \n",
       "                $( document ).ready(code_toggle);\n",
       "            </script>\n",
       "            <form  action=\"javascript:code_toggle()\">\n",
       "                <input class='mybutton' type=\"submit\" value=\"Klikk for å vise/skjule kodeceller\">\n",
       "            </form>\n",
       "        </div>"
      ],
      "text/plain": [
       "<IPython.core.display.HTML object>"
      ]
     },
     "metadata": {},
     "output_type": "display_data"
    }
   ],
   "source": [
    "code_toggle()"
   ]
  },
  {
   "cell_type": "code",
   "execution_count": 66,
   "metadata": {},
   "outputs": [],
   "source": [
    "import nbtext as nb\n",
    "import ipywidgets as widgets\n",
    "from ipywidgets import interact, interact_manual\n",
    "%matplotlib inline"
   ]
  },
  {
   "cell_type": "markdown",
   "metadata": {},
   "source": [
    "## Lag kollokasjoner for tidsperioder og nettverk for ord"
   ]
  },
  {
   "cell_type": "markdown",
   "metadata": {},
   "source": [
    "\n",
    "Definer en serie cluster over en tidsperiode. Clusteret bygges med kommandoen **serie_cluster()** som i tillegg til Cluster-kommandoen tar parametrene startår, sluttår og årsinkrementet. Sjekk opp eksemplet under. Kommandoen skriver ut periodene etterhvert som de blir klare.\n"
   ]
  },
  {
   "cell_type": "code",
   "execution_count": 67,
   "metadata": {},
   "outputs": [],
   "source": [
    "notebook_clusters = dict()\n"
   ]
  },
  {
   "cell_type": "code",
   "execution_count": 68,
   "metadata": {},
   "outputs": [],
   "source": [
    "def icluster(word, period, span, before, after, antall_referanse, maks_ord):\n",
    "    key = \"{w}_{period}\".format(w=word, period = str(period[0])+'-'+str(period[1]))\n",
    "    print(key)\n",
    "    notebook_clusters[key] = nb.serie_cluster(\n",
    "    word, \n",
    "    period[0], \n",
    "    period[1], \n",
    "    span,\n",
    "    before=before, \n",
    "    after=after, \n",
    "    reference=antall_referanse, \n",
    "    word_samples=maks_ord)"
   ]
  },
  {
   "cell_type": "code",
   "execution_count": 69,
   "metadata": {
    "scrolled": true
   },
   "outputs": [
    {
     "data": {
      "application/vnd.jupyter.widget-view+json": {
       "model_id": "b025ab165a8945229106754005f95a84",
       "version_major": 2,
       "version_minor": 0
      },
      "text/plain": [
       "interactive(children=(Text(value='', description='word'), IntRangeSlider(value=(1980, 1990), description='peri…"
      ]
     },
     "metadata": {},
     "output_type": "display_data"
    }
   ],
   "source": [
    "interact_manual(icluster, word='', period=widgets.IntRangeSlider(min=1950, max= 2010, value=[1980, 1990]), span=5, before=4, after=4, antall_referanse=150, maks_ord=widgets.IntSlider(min=100, max=2000));"
   ]
  },
  {
   "cell_type": "markdown",
   "metadata": {},
   "source": [
    "## Heatmap"
   ]
  },
  {
   "cell_type": "markdown",
   "metadata": {},
   "source": [
    "Heatmap er på plass. Fyll inn navnet på et seriecluster i uttrykket under - neste versjon vil bli litt mer brukervennlig, men tror det her skal fungere. \n",
    "\n",
    "Antall rader endres i den siste hakeparentesen. Sorter på en kolonne ved å fyll inn kolonnenavnet der teksten er rød i cellen. Første kolonne har ikke fått årstall - det gjør den grei å starte med, siden første årstall kan variere. "
   ]
  },
  {
   "cell_type": "code",
   "execution_count": 72,
   "metadata": {},
   "outputs": [
    {
     "data": {
      "application/vnd.jupyter.widget-view+json": {
       "model_id": "8f975a0427d846f5a9c86f6de8fe9ee3",
       "version_major": 2,
       "version_minor": 0
      },
      "text/plain": [
       "interactive(children=(Dropdown(description='cluster', options=('AIDS_1980-1990',), value='AIDS_1980-1990'), Dr…"
      ]
     },
     "metadata": {},
     "output_type": "display_data"
    }
   ],
   "source": [
    "clusters = widgets.Dropdown(options = notebook_clusters.keys())\n",
    "columns = widgets.Dropdown()\n",
    "\n",
    "# Define a function that updates the content of y based on what we select for x\n",
    "def update(*args):\n",
    "    columns.options = nb.cluster_join(notebook_clusters[clusters.value]).columns\n",
    "clusters.observe(update)\n",
    "\n",
    "def display_heatmap(cluster, column, rader=widgets.IntSlider(min=10,max=100,value=20)):\n",
    "    return nb.heatmap(nb.cluster_join(notebook_clusters[cluster]).sort_values(by=column, ascending=False)[:rader])\n",
    "if bool(notebook_clusters):\n",
    "    interact(display_heatmap, cluster = clusters, column = columns);\n",
    "else:\n",
    "    printmd(\"<b><span style='color:Olive'>Ingen cluster er klare.</span></b> Så snart det er bygget clustre er det bare å reaktivere den her cellen.\")\n",
    "    "
   ]
  },
  {
   "cell_type": "markdown",
   "metadata": {},
   "source": [
    "## Konkordanser\n",
    "Finn konkordanser. Input skal være greit. Hele perioden 1950 - 2000 er forhåndsvalgt, og kan fokuseres. Avisnavn er trunkert, så bare skriv de første bokstavene, for eksempel `aften` gir alt av `aftenposten`. "
   ]
  },
  {
   "cell_type": "code",
   "execution_count": 71,
   "metadata": {},
   "outputs": [
    {
     "data": {
      "application/vnd.jupyter.widget-view+json": {
       "model_id": "bcec2afc4c2b43d085ca93faa6289466",
       "version_major": 2,
       "version_minor": 0
      },
      "text/plain": [
       "interactive(children=(Text(value='sykdom', description='søkeord'), Text(value='', description='avisnavn'), Int…"
      ]
     },
     "metadata": {},
     "output_type": "display_data"
    }
   ],
   "source": [
    "def konk(søkeord='sykdom', avisnavn='', period=widgets.IntRangeSlider(min=1950, max= 2010, value=[1950, 2000]), \n",
    "         before=(0,12),after=(0,12),  limit=(0,10)):\n",
    "    return nb.get_konk(søkeord, {'yearfrom': period[0],'title':avisnavn + '%', 'yearto':period[1], 'corpus':'avis', 'before':before, 'after':after, 'size':limit})\n",
    "\n",
    "interact_manual(konk);"
   ]
  }
 ],
 "metadata": {
  "hide_input": false,
  "kernelspec": {
   "display_name": "Python 3",
   "language": "python",
   "name": "python3"
  },
  "language_info": {
   "codemirror_mode": {
    "name": "ipython",
    "version": 3
   },
   "file_extension": ".py",
   "mimetype": "text/x-python",
   "name": "python",
   "nbconvert_exporter": "python",
   "pygments_lexer": "ipython3",
   "version": "3.7.0"
  }
 },
 "nbformat": 4,
 "nbformat_minor": 2
}
