{
 "cells": [
  {
   "cell_type": "markdown",
   "metadata": {},
   "source": [
    "## Konkordanser for HeCore\n",
    "\n",
    "Versjon: **Januar 2019**\n",
    "\n",
    "Velg `Run all` fra Cell-menyen over. Visning av kode forsvinner, som kan toggles ved å trykke på den grå knappen nedenfor. Cellen for konkordanser skulle være grei. Skriv inn parametrene og trykk på knappen `Run interact`. Det er ikke sikkert alt kommer opp, men det kan vi se på. Det skal uansett være en hel del data. Dataval utvikles med tanke på hvordan å se mer valg, utvidelser og innskrenkninger.\n",
    "\n"
   ]
  },
  {
   "cell_type": "code",
   "execution_count": 29,
   "metadata": {},
   "outputs": [],
   "source": [
    "!curl -s https://raw.githubusercontent.com/yoonsen/modules/master/module_update.py > module_update.py"
   ]
  },
  {
   "cell_type": "code",
   "execution_count": 30,
   "metadata": {},
   "outputs": [],
   "source": [
    "from module_update import css, code_toggle, update"
   ]
  },
  {
   "cell_type": "code",
   "execution_count": 31,
   "metadata": {},
   "outputs": [
    {
     "data": {
      "text/html": [
       "<style>@import url(\n",
       "http://fonts.googleapis.com/css?family=Lato|Philosopher|Montserrat|Source+Code+Pro|Istok+Web|Philosopher|Assistant:200,400,700);\n",
       "\n",
       "/*\n",
       "#notebook-container {\n",
       "\t-webkit-box-shadow: none;\n",
       "\tbox-shadow: none;\n",
       "}\n",
       "*/\n",
       "\n",
       "h1, h2, h3, h4, h5, h6 {\n",
       "\tfont-family: 'Montserrat', sans-serif;\n",
       "\tline-height: 2em;\n",
       "    color: #004f99;\n",
       "    font-weight: 600;\n",
       "}\n",
       "\n",
       "h1 { font-size: 4.5em; }\n",
       "h2 { font-size: 4em; }\n",
       "h3 { font-size: 3.5em; }\n",
       "h4 { font-size: 3em; }\n",
       "h5 { font-size: 2.5em; color:DarkSlateGray; }\n",
       "h6 { font-size: 2em; }\n",
       "\n",
       "p {\n",
       "\tfont-family: 'Assistant', sans-serif; \n",
       "\tfont-size: 1.2em;\n",
       "\tline-height: 1.4em;\n",
       "\tcolor: black;\n",
       "}\n",
       "p code {\n",
       "\tfont-size:0.9em;\n",
       "}\n",
       "div.input_area {\n",
       "\tborder:none !important;\n",
       "\tborder-left:1px solid #ff851b !important\n",
       "}\n",
       "\n",
       "span.cm-keyword {\n",
       "\tcolor:#339966 !important;\n",
       "}\n",
       "span.nn {  /*span.cm-variable, span.cm-property*/\n",
       "\tcolor: #3399ff !important;\n",
       "}\n",
       "div.CodeMirror {\n",
       "\tfont-family: 'Inconsolata', monospace;\n",
       "\tfont-size: 1.1em;\n",
       "\t\n",
       "}\n",
       "</style>"
      ],
      "text/plain": [
       "<IPython.core.display.HTML object>"
      ]
     },
     "execution_count": 31,
     "metadata": {},
     "output_type": "execute_result"
    }
   ],
   "source": [
    "css()"
   ]
  },
  {
   "cell_type": "code",
   "execution_count": 32,
   "metadata": {},
   "outputs": [],
   "source": [
    "import nbtext as nb\n",
    "import ipywidgets as widgets\n",
    "from ipywidgets import interact, interact_manual\n",
    "%matplotlib inline"
   ]
  },
  {
   "cell_type": "code",
   "execution_count": 33,
   "metadata": {},
   "outputs": [
    {
     "data": {
      "text/html": [
       "<div>\n",
       "                <style>\n",
       "                 .mybutton {\n",
       "                    background-color: lightgrey;\n",
       "                    border: none;\n",
       "                    color: white;\n",
       "                    padding: 10px 16px;\n",
       "                    text-align: center;\n",
       "                    text-decoration: none;\n",
       "                    display: inline-block;\n",
       "                    font-size: 16px;\n",
       "                    margin: 4px 2px;\n",
       "                    cursor: pointer;\n",
       "                }\n",
       "            </style>\n",
       "            <script>\n",
       "                code_show=true; \n",
       "                function code_toggle() {\n",
       "                 if (code_show){\n",
       "                 $('div.input').hide();\n",
       "                 } else {\n",
       "                 $('div.input').show();\n",
       "                 }\n",
       "                 code_show = !code_show\n",
       "                } \n",
       "                $( document ).ready(code_toggle);\n",
       "            </script>\n",
       "            <form  action=\"javascript:code_toggle()\">\n",
       "                <input class='mybutton' type=\"submit\" value=\"Klikk for å vise/skjule kodeceller\">\n",
       "            </form>\n",
       "        </div>"
      ],
      "text/plain": [
       "<IPython.core.display.HTML object>"
      ]
     },
     "metadata": {},
     "output_type": "display_data"
    }
   ],
   "source": [
    "code_toggle()"
   ]
  },
  {
   "cell_type": "markdown",
   "metadata": {},
   "source": [
    "## Konkordanser\n",
    "\n",
    "Finn konkordanser. Input skal være greit. Hele perioden 1950 - 2000 er forhåndsvalgt, og kan fokuseres. Avisnavn er trunkert, så bare skriv de første bokstavene, for eksempel `aften` gir alt av `aftenposten`. "
   ]
  },
  {
   "cell_type": "code",
   "execution_count": 34,
   "metadata": {
    "scrolled": false
   },
   "outputs": [
    {
     "data": {
      "application/vnd.jupyter.widget-view+json": {
       "model_id": "593abfe4e1194d6e84743477e74937a9",
       "version_major": 2,
       "version_minor": 0
      },
      "text/plain": [
       "interactive(children=(Text(value='sykdom', description='søkeord'), Text(value='', description='avisnavn'), Int…"
      ]
     },
     "metadata": {},
     "output_type": "display_data"
    }
   ],
   "source": [
    "def konk(søkeord='sykdom', avisnavn='', period=widgets.IntRangeSlider(min=1950, max= 2010, value=[1950, 2000]), \n",
    "         before=(0,12),after=(0,12),  limit=(0, 100)):\n",
    "    return nb.get_konk(søkeord, {'yearfrom': period[0],'title':avisnavn + '%', 'yearto':period[1], 'corpus':'avis', 'before':before, 'after':after, 'size':limit})\n",
    "\n",
    "interact_manual(konk);"
   ]
  },
  {
   "cell_type": "code",
   "execution_count": null,
   "metadata": {},
   "outputs": [],
   "source": []
  }
 ],
 "metadata": {
  "hide_input": false,
  "kernelspec": {
   "display_name": "Python 3",
   "language": "python",
   "name": "python3"
  },
  "language_info": {
   "codemirror_mode": {
    "name": "ipython",
    "version": 3
   },
   "file_extension": ".py",
   "mimetype": "text/x-python",
   "name": "python",
   "nbconvert_exporter": "python",
   "pygments_lexer": "ipython3",
   "version": "3.7.0"
  }
 },
 "nbformat": 4,
 "nbformat_minor": 2
}
