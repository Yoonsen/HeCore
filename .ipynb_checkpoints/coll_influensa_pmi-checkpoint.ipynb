{
 "cells": [
  {
   "cell_type": "markdown",
   "metadata": {},
   "source": [
    "# Kollokasjoner for nøkkelord"
   ]
  },
  {
   "cell_type": "code",
   "execution_count": 1,
   "metadata": {},
   "outputs": [],
   "source": [
    "import dhlab.nbtext as nb\n",
    "import dhlab.module_update as mu\n",
    "import dhlab.graph_networkx_louvain as gnl\n",
    "from dhlab.module_update import update, css, code_toggle"
   ]
  },
  {
   "cell_type": "code",
   "execution_count": 2,
   "metadata": {},
   "outputs": [
    {
     "data": {
      "text/html": [
       "<style>@import url(\n",
       "http://fonts.googleapis.com/css?family=Lato|Philosopher|Montserrat|Source+Code+Pro|Istok+Web|Philosopher|Assistant:200,400,700);\n",
       "\n",
       "/*\n",
       "#notebook-container {\n",
       "\t-webkit-box-shadow: none;\n",
       "\tbox-shadow: none;\n",
       "}\n",
       "*/\n",
       "\n",
       "h1, h2, h3, h4, h5, h6 {\n",
       "\tfont-family: 'Montserrat', sans-serif;\n",
       "\tline-height: 2em;\n",
       "    color: #004f99;\n",
       "    font-weight: 600;\n",
       "}\n",
       "\n",
       "h1 { font-size: 4.5em; }\n",
       "h2 { font-size: 4em; }\n",
       "h3 { font-size: 3.5em; }\n",
       "h4 { font-size: 3em; }\n",
       "h5 { font-size: 2.5em; color:DarkSlateGray; }\n",
       "h6 { font-size: 2em; }\n",
       "\n",
       "p {\n",
       "\tfont-family: 'Assistant', sans-serif; \n",
       "\tfont-size: 1.2em;\n",
       "\tline-height: 1.4em;\n",
       "\tcolor: black;\n",
       "}\n",
       "p code {\n",
       "\tfont-size:0.9em;\n",
       "}\n",
       "div.input_area {\n",
       "\tborder:none !important;\n",
       "\tborder-left:1px solid #ff851b !important\n",
       "}\n",
       "\n",
       "span.cm-keyword {\n",
       "\tcolor:#339966 !important;\n",
       "}\n",
       "span.nn {  /*span.cm-variable, span.cm-property*/\n",
       "\tcolor: #3399ff !important;\n",
       "}\n",
       "div.CodeMirror {\n",
       "\tfont-family: 'Inconsolata', monospace;\n",
       "\tfont-size: 1.1em;\n",
       "\t\n",
       "}\n",
       "</style>"
      ],
      "text/plain": [
       "<IPython.core.display.HTML object>"
      ]
     },
     "execution_count": 2,
     "metadata": {},
     "output_type": "execute_result"
    }
   ],
   "source": [
    "css()"
   ]
  },
  {
   "cell_type": "code",
   "execution_count": 148,
   "metadata": {},
   "outputs": [
    {
     "data": {
      "text/html": [
       "<div>\n",
       "                <style>\n",
       "                 .mybutton {\n",
       "                    background-color: lightgrey;\n",
       "                    border: none;\n",
       "                    color: white;\n",
       "                    padding: 10px 16px;\n",
       "                    text-align: center;\n",
       "                    text-decoration: none;\n",
       "                    display: inline-block;\n",
       "                    font-size: 16px;\n",
       "                    margin: 4px 2px;\n",
       "                    cursor: pointer;\n",
       "                }\n",
       "            </style>\n",
       "            <script>\n",
       "                code_show=true; \n",
       "                function code_toggle() {\n",
       "                 if (code_show){\n",
       "                 $('div.input').hide();\n",
       "                 } else {\n",
       "                 $('div.input').show();\n",
       "                 }\n",
       "                 code_show = !code_show\n",
       "                } \n",
       "                $( document ).ready(code_toggle);\n",
       "            </script>\n",
       "            <form  action=\"javascript:code_toggle()\">\n",
       "                <input class='mybutton' type=\"submit\" value=\"Klikk for å vise/skjule kodeceller\">\n",
       "            </form>\n",
       "        </div>"
      ],
      "text/plain": [
       "<IPython.core.display.HTML object>"
      ]
     },
     "metadata": {},
     "output_type": "display_data"
    }
   ],
   "source": [
    "mu.code_toggle()"
   ]
  },
  {
   "cell_type": "code",
   "execution_count": 156,
   "metadata": {},
   "outputs": [],
   "source": [
    "def categorize(list_of_words):\n",
    "    proprium = [x for x in list_of_words if x[0].upper() == x[0]]\n",
    "    other = [x for x in list_of_words if not x in proprium]\n",
    "\n",
    "    return {'propr':proprium,\n",
    "           'other': other }\n",
    "\n",
    "def select_form(w):\n",
    "    fs = [x.split()[0] for x in nb.word_form(w)]\n",
    "    if 'verb' in fs:\n",
    "        res = 'verb'\n",
    "    elif 'subst' in fs:\n",
    "        res = 'subst'\n",
    "    elif len(fs) > 0:\n",
    "        res = fs[0]\n",
    "    else:\n",
    "        res = 'unknown'\n",
    "    return res\n",
    "\n",
    "def sort_word_forms(words):\n",
    "    res = {select_form(w):w for w in words}\n",
    "    return res\n",
    "\n",
    "def character_words(Character_name, number_of_words=50):\n",
    "    res = {w:select_form(w) for w in categorize(list(nb.frame_sort(nb.frame(coll_matrix[Character_name]/tot['tot'], 'association')).head(number_of_words).index))['other']}\n",
    "    result = {cat:[w for w in res if res[w] == cat] for cat in res.values()}\n",
    "    return result\n",
    "\n",
    "def mdprint(forskjell, cutoff=5):\n",
    "    categories = categorize(forskjell[forskjell > cutoff].dropna().index)\n",
    "    forms = {w:select_form(w) for w in categories['other']}\n",
    "    Grouping = {cat:[word for word in forms if forms[word] == cat] for cat in forms.values()}\n",
    "    navn = \"## Benevnelser \\n\"\n",
    "    navn += \"<span style='font-size:150%'>{stuff}</span>\".format(stuff= ', '.join(categories['propr']))\n",
    "    pos = \"\"\n",
    "    for cat in Grouping:\n",
    "        pos += \"## \" + cat + \"\\n\"\n",
    "        pos += \"<span style='font-size:1.1em'>{stuff}</span>\".format(stuff= ', '.join(Grouping[cat]) ) + \"\\n\"\n",
    "    mu.printmd(navn)\n",
    "    mu.printmd(pos)\n",
    "    return"
   ]
  },
  {
   "cell_type": "code",
   "execution_count": 4,
   "metadata": {},
   "outputs": [
    {
     "data": {
      "text/markdown": [
       "Updated file `D:\\Documents\\GitHub\\HeCore\\collocations.py`"
      ],
      "text/plain": [
       "<IPython.core.display.Markdown object>"
      ]
     },
     "metadata": {},
     "output_type": "display_data"
    }
   ],
   "source": [
    "update('collocations')"
   ]
  },
  {
   "cell_type": "code",
   "execution_count": 5,
   "metadata": {},
   "outputs": [],
   "source": [
    "from collocations import make_collocations, collocation, colls2df, urn_coll"
   ]
  },
  {
   "cell_type": "code",
   "execution_count": 6,
   "metadata": {},
   "outputs": [],
   "source": [
    "import pandas as pd"
   ]
  },
  {
   "cell_type": "code",
   "execution_count": 7,
   "metadata": {},
   "outputs": [],
   "source": [
    "import ast"
   ]
  },
  {
   "cell_type": "code",
   "execution_count": 8,
   "metadata": {},
   "outputs": [],
   "source": [
    "#colls_before = pd.read_json('demokrati_before.json')"
   ]
  },
  {
   "cell_type": "code",
   "execution_count": 9,
   "metadata": {},
   "outputs": [],
   "source": [
    "import warnings\n",
    "warnings.filterwarnings('ignore')"
   ]
  },
  {
   "cell_type": "code",
   "execution_count": 10,
   "metadata": {},
   "outputs": [],
   "source": [
    "import matplotlib.pyplot as plt\n",
    "plt.rcParams.update({'font.size': 20})"
   ]
  },
  {
   "cell_type": "markdown",
   "metadata": {},
   "source": [
    "## Definer nøkkelordet"
   ]
  },
  {
   "cell_type": "code",
   "execution_count": 150,
   "metadata": {},
   "outputs": [],
   "source": [
    "nøkkelord = 'influensa'"
   ]
  },
  {
   "cell_type": "code",
   "execution_count": 151,
   "metadata": {},
   "outputs": [],
   "source": [
    "keyword_graph = nb.make_graph(nøkkelord, cutoff=16)"
   ]
  },
  {
   "cell_type": "code",
   "execution_count": 152,
   "metadata": {},
   "outputs": [],
   "source": [
    "comm = gnl.community_dict(keyword_graph)"
   ]
  },
  {
   "cell_type": "code",
   "execution_count": 153,
   "metadata": {},
   "outputs": [
    {
     "name": "stdout",
     "output_type": "stream",
     "text": [
      "(3, 1) Smerter, hals, diaré, hodepine, Forkjølelse, influensa, forkjolelse, meslinger, bihulebetennelse, forkjølelser, forkjølelse, lungebetennelse, hoste, feber, bronkitt, omgangssyke\n",
      "\n",
      "(3, 2) influensa, svineinfluensa, fugleinfluensa\n",
      "\n",
      "(3, 3) kopper, influensa, tuberkulose\n",
      "\n"
     ]
    }
   ],
   "source": [
    "cliques = gnl.show_cliques(keyword_graph)"
   ]
  },
  {
   "cell_type": "markdown",
   "metadata": {},
   "source": [
    "<br>\n",
    "<br>\n",
    "<br>\n",
    "\n",
    "# Topoi fra grafen"
   ]
  },
  {
   "cell_type": "code",
   "execution_count": 154,
   "metadata": {},
   "outputs": [
    {
     "data": {
      "text/markdown": [
       "### kopper-sink\n",
       "<span style='font-size:1.1em'>kopper, sink, tallerkner, glass, fat, tallerkener, asjetter, skåler</span>\n",
       "### tuberkulose-meslinger\n",
       "<span style='font-size:1.1em'>tuberkulose, meslinger, diaré, malaria, polio, AIDS, kreft, andre, aids, tyfus, hiv</span>\n",
       "### influensa-feber\n",
       "<span style='font-size:1.1em'>influensa, feber, forkjølelse, hodepine, forkjolelse, hoste, hals, kikhoste, smerter, bihulebetennelse, influensa-symptomer, halsonde, oppkast, halsbetennelse, omgangssyke, barnesykdommer, tvinger</span>\n",
       "### vaksine-vet.attest\n",
       "<span style='font-size:1.1em'>vaksine, vet.attest, medisiner, chip, stamtavle, helseattest, attest, ormekur</span>\n",
       "### svineinfluensa-finanskrise\n",
       "<span style='font-size:1.1em'>svineinfluensa, finanskrise, sesonginfluensa, fugleinfluensa</span>\n",
       "### lungebetennelse-bronkitt\n",
       "<span style='font-size:1.1em'>lungebetennelse, bronkitt, astma, hjernehinnebetennelse, forkjølelser, døde</span>\n",
       "### sterk-rask\n",
       "<span style='font-size:1.1em'>sterk, rask, smidig, sunn, sund, modig</span>\n",
       "### Forkjølelse-Smerter\n",
       "<span style='font-size:1.1em'>Forkjølelse, Smerter, Reumatisme</span>\n"
      ],
      "text/plain": [
       "<IPython.core.display.Markdown object>"
      ]
     },
     "metadata": {},
     "output_type": "display_data"
    }
   ],
   "source": [
    "pos=\"\"\n",
    "for x in comm:\n",
    "    pos += \"### \" + x + \"\\n\"\n",
    "    pos += \"<span style='font-size:1.1em'>{stuff}</span>\".format(stuff= ', '.join(comm[x]) ) + \"\\n\"\n",
    "mu.printmd(pos)"
   ]
  },
  {
   "cell_type": "markdown",
   "metadata": {},
   "source": [
    "<br>\n",
    "<br>\n",
    "<br>\n",
    "\n",
    "# Studerer endring gjennom kollokasjoner\n",
    "<br>\n",
    "<span style=\"font-size:150%\">nb.collocation('demokrati', yearfrom=1950, yearto=1955, before=10, after=10, corpus='avis')</span>\n"
   ]
  },
  {
   "cell_type": "code",
   "execution_count": 30,
   "metadata": {},
   "outputs": [],
   "source": [
    "tot = nb.frame(nb.totals(50000), 'tot')"
   ]
  },
  {
   "cell_type": "code",
   "execution_count": null,
   "metadata": {},
   "outputs": [],
   "source": [
    "reference = dict()\n",
    "step = 1\n",
    "for i in range(1950, 2000):\n",
    "    reference[i] = nb.frame(nb.get_corpus(yearfrom=i, yearto=i+step, corpus = 'avis', samplesize=200).sum(axis=1), i)\n",
    "    "
   ]
  },
  {
   "cell_type": "code",
   "execution_count": 190,
   "metadata": {},
   "outputs": [
    {
     "ename": "KeyError",
     "evalue": "1951",
     "output_type": "error",
     "traceback": [
      "\u001b[1;31m---------------------------------------------------------------------------\u001b[0m",
      "\u001b[1;31mKeyError\u001b[0m                                  Traceback (most recent call last)",
      "\u001b[1;32m<ipython-input-190-7f9aca2c6246>\u001b[0m in \u001b[0;36m<module>\u001b[1;34m\u001b[0m\n\u001b[1;32m----> 1\u001b[1;33m \u001b[0mreference\u001b[0m\u001b[1;33m[\u001b[0m\u001b[1;36m1951\u001b[0m\u001b[1;33m]\u001b[0m\u001b[1;33m\u001b[0m\u001b[1;33m\u001b[0m\u001b[0m\n\u001b[0m",
      "\u001b[1;31mKeyError\u001b[0m: 1951"
     ]
    }
   ],
   "source": [
    "reference[1951]"
   ]
  },
  {
   "cell_type": "code",
   "execution_count": 32,
   "metadata": {},
   "outputs": [],
   "source": [
    "collocations = dict()\n",
    "step = 1\n",
    "for i in range(1950, 2000):\n",
    "    try:\n",
    "        collocations[i] = nb.collocation('influensa', yearfrom=i, yearto=i+step, before = 10, after = 10, corpus = 'avis')\n",
    "    except:\n",
    "        try:\n",
    "            collocations[i] = nb.collocation('influensa', yearfrom=i, yearto=i+step, before = 10, after = 10, corpus = 'avis')\n",
    "        except:\n",
    "            print(\"gir opp\", i)"
   ]
  },
  {
   "cell_type": "code",
   "execution_count": 40,
   "metadata": {},
   "outputs": [],
   "source": [
    "colls = nb.frame(collocations)"
   ]
  },
  {
   "cell_type": "code",
   "execution_count": 49,
   "metadata": {},
   "outputs": [],
   "source": [
    "colls = pd.concat([nb.frame(collocations[i], i) for i in collocations], axis=1).fillna(0)"
   ]
  },
  {
   "cell_type": "code",
   "execution_count": 123,
   "metadata": {},
   "outputs": [],
   "source": [
    "agg = pd.DataFrame()\n",
    "step = 10\n",
    "for i in range(0, len(colls.columns), step):\n",
    "    agg[colls.columns[i]] = colls[colls.columns[i:i+step]].sum(axis=1)"
   ]
  },
  {
   "cell_type": "code",
   "execution_count": null,
   "metadata": {},
   "outputs": [],
   "source": []
  },
  {
   "cell_type": "markdown",
   "metadata": {},
   "source": [
    "<br>\n",
    "<br>\n",
    "<br>\n",
    "<br>\n",
    "\n",
    "# Opptelling"
   ]
  },
  {
   "cell_type": "code",
   "execution_count": 53,
   "metadata": {},
   "outputs": [
    {
     "data": {
      "text/html": [
       "<style  type=\"text/css\" >\n",
       "    #T_36967f64_04e2_11ea_bb6e_000acd2bfab2row0_col0 {\n",
       "            background-color:  #328dbf;\n",
       "            color:  #000000;\n",
       "        }    #T_36967f64_04e2_11ea_bb6e_000acd2bfab2row0_col1 {\n",
       "            background-color:  #1b7eb7;\n",
       "            color:  #000000;\n",
       "        }    #T_36967f64_04e2_11ea_bb6e_000acd2bfab2row0_col2 {\n",
       "            background-color:  #023858;\n",
       "            color:  #f1f1f1;\n",
       "        }    #T_36967f64_04e2_11ea_bb6e_000acd2bfab2row0_col3 {\n",
       "            background-color:  #023858;\n",
       "            color:  #f1f1f1;\n",
       "        }    #T_36967f64_04e2_11ea_bb6e_000acd2bfab2row0_col4 {\n",
       "            background-color:  #023858;\n",
       "            color:  #f1f1f1;\n",
       "        }    #T_36967f64_04e2_11ea_bb6e_000acd2bfab2row1_col0 {\n",
       "            background-color:  #023858;\n",
       "            color:  #f1f1f1;\n",
       "        }    #T_36967f64_04e2_11ea_bb6e_000acd2bfab2row1_col1 {\n",
       "            background-color:  #023858;\n",
       "            color:  #f1f1f1;\n",
       "        }    #T_36967f64_04e2_11ea_bb6e_000acd2bfab2row1_col2 {\n",
       "            background-color:  #056dab;\n",
       "            color:  #f1f1f1;\n",
       "        }    #T_36967f64_04e2_11ea_bb6e_000acd2bfab2row1_col3 {\n",
       "            background-color:  #60a1ca;\n",
       "            color:  #000000;\n",
       "        }    #T_36967f64_04e2_11ea_bb6e_000acd2bfab2row1_col4 {\n",
       "            background-color:  #67a4cc;\n",
       "            color:  #000000;\n",
       "        }    #T_36967f64_04e2_11ea_bb6e_000acd2bfab2row2_col0 {\n",
       "            background-color:  #e0deed;\n",
       "            color:  #000000;\n",
       "        }    #T_36967f64_04e2_11ea_bb6e_000acd2bfab2row2_col1 {\n",
       "            background-color:  #b8c6e0;\n",
       "            color:  #000000;\n",
       "        }    #T_36967f64_04e2_11ea_bb6e_000acd2bfab2row2_col2 {\n",
       "            background-color:  #81aed2;\n",
       "            color:  #000000;\n",
       "        }    #T_36967f64_04e2_11ea_bb6e_000acd2bfab2row2_col3 {\n",
       "            background-color:  #88b1d4;\n",
       "            color:  #000000;\n",
       "        }    #T_36967f64_04e2_11ea_bb6e_000acd2bfab2row2_col4 {\n",
       "            background-color:  #bfc9e1;\n",
       "            color:  #000000;\n",
       "        }    #T_36967f64_04e2_11ea_bb6e_000acd2bfab2row3_col0 {\n",
       "            background-color:  #d5d5e8;\n",
       "            color:  #000000;\n",
       "        }    #T_36967f64_04e2_11ea_bb6e_000acd2bfab2row3_col1 {\n",
       "            background-color:  #cdd0e5;\n",
       "            color:  #000000;\n",
       "        }    #T_36967f64_04e2_11ea_bb6e_000acd2bfab2row3_col2 {\n",
       "            background-color:  #d0d1e6;\n",
       "            color:  #000000;\n",
       "        }    #T_36967f64_04e2_11ea_bb6e_000acd2bfab2row3_col3 {\n",
       "            background-color:  #d6d6e9;\n",
       "            color:  #000000;\n",
       "        }    #T_36967f64_04e2_11ea_bb6e_000acd2bfab2row3_col4 {\n",
       "            background-color:  #cccfe5;\n",
       "            color:  #000000;\n",
       "        }    #T_36967f64_04e2_11ea_bb6e_000acd2bfab2row4_col0 {\n",
       "            background-color:  #a8bedc;\n",
       "            color:  #000000;\n",
       "        }    #T_36967f64_04e2_11ea_bb6e_000acd2bfab2row4_col1 {\n",
       "            background-color:  #d2d3e7;\n",
       "            color:  #000000;\n",
       "        }    #T_36967f64_04e2_11ea_bb6e_000acd2bfab2row4_col2 {\n",
       "            background-color:  #e5e1ef;\n",
       "            color:  #000000;\n",
       "        }    #T_36967f64_04e2_11ea_bb6e_000acd2bfab2row4_col3 {\n",
       "            background-color:  #ece7f2;\n",
       "            color:  #000000;\n",
       "        }    #T_36967f64_04e2_11ea_bb6e_000acd2bfab2row4_col4 {\n",
       "            background-color:  #e8e4f0;\n",
       "            color:  #000000;\n",
       "        }    #T_36967f64_04e2_11ea_bb6e_000acd2bfab2row5_col0 {\n",
       "            background-color:  #f1ebf4;\n",
       "            color:  #000000;\n",
       "        }    #T_36967f64_04e2_11ea_bb6e_000acd2bfab2row5_col1 {\n",
       "            background-color:  #f0eaf4;\n",
       "            color:  #000000;\n",
       "        }    #T_36967f64_04e2_11ea_bb6e_000acd2bfab2row5_col2 {\n",
       "            background-color:  #eee9f3;\n",
       "            color:  #000000;\n",
       "        }    #T_36967f64_04e2_11ea_bb6e_000acd2bfab2row5_col3 {\n",
       "            background-color:  #e6e2ef;\n",
       "            color:  #000000;\n",
       "        }    #T_36967f64_04e2_11ea_bb6e_000acd2bfab2row5_col4 {\n",
       "            background-color:  #e1dfed;\n",
       "            color:  #000000;\n",
       "        }    #T_36967f64_04e2_11ea_bb6e_000acd2bfab2row6_col0 {\n",
       "            background-color:  #fef6fb;\n",
       "            color:  #000000;\n",
       "        }    #T_36967f64_04e2_11ea_bb6e_000acd2bfab2row6_col1 {\n",
       "            background-color:  #fbf4f9;\n",
       "            color:  #000000;\n",
       "        }    #T_36967f64_04e2_11ea_bb6e_000acd2bfab2row6_col2 {\n",
       "            background-color:  #fdf5fa;\n",
       "            color:  #000000;\n",
       "        }    #T_36967f64_04e2_11ea_bb6e_000acd2bfab2row6_col3 {\n",
       "            background-color:  #fbf4f9;\n",
       "            color:  #000000;\n",
       "        }    #T_36967f64_04e2_11ea_bb6e_000acd2bfab2row6_col4 {\n",
       "            background-color:  #fbf3f9;\n",
       "            color:  #000000;\n",
       "        }    #T_36967f64_04e2_11ea_bb6e_000acd2bfab2row7_col0 {\n",
       "            background-color:  #fff7fb;\n",
       "            color:  #000000;\n",
       "        }    #T_36967f64_04e2_11ea_bb6e_000acd2bfab2row7_col1 {\n",
       "            background-color:  #fff7fb;\n",
       "            color:  #000000;\n",
       "        }    #T_36967f64_04e2_11ea_bb6e_000acd2bfab2row7_col2 {\n",
       "            background-color:  #fdf5fa;\n",
       "            color:  #000000;\n",
       "        }    #T_36967f64_04e2_11ea_bb6e_000acd2bfab2row7_col3 {\n",
       "            background-color:  #fff7fb;\n",
       "            color:  #000000;\n",
       "        }    #T_36967f64_04e2_11ea_bb6e_000acd2bfab2row7_col4 {\n",
       "            background-color:  #fdf5fa;\n",
       "            color:  #000000;\n",
       "        }    #T_36967f64_04e2_11ea_bb6e_000acd2bfab2row8_col0 {\n",
       "            background-color:  #fdf5fa;\n",
       "            color:  #000000;\n",
       "        }    #T_36967f64_04e2_11ea_bb6e_000acd2bfab2row8_col1 {\n",
       "            background-color:  #faf3f9;\n",
       "            color:  #000000;\n",
       "        }    #T_36967f64_04e2_11ea_bb6e_000acd2bfab2row8_col2 {\n",
       "            background-color:  #fdf5fa;\n",
       "            color:  #000000;\n",
       "        }    #T_36967f64_04e2_11ea_bb6e_000acd2bfab2row8_col3 {\n",
       "            background-color:  #f9f2f8;\n",
       "            color:  #000000;\n",
       "        }    #T_36967f64_04e2_11ea_bb6e_000acd2bfab2row8_col4 {\n",
       "            background-color:  #f6eff7;\n",
       "            color:  #000000;\n",
       "        }    #T_36967f64_04e2_11ea_bb6e_000acd2bfab2row9_col0 {\n",
       "            background-color:  #f7f0f7;\n",
       "            color:  #000000;\n",
       "        }    #T_36967f64_04e2_11ea_bb6e_000acd2bfab2row9_col1 {\n",
       "            background-color:  #f7f0f7;\n",
       "            color:  #000000;\n",
       "        }    #T_36967f64_04e2_11ea_bb6e_000acd2bfab2row9_col2 {\n",
       "            background-color:  #fff7fb;\n",
       "            color:  #000000;\n",
       "        }    #T_36967f64_04e2_11ea_bb6e_000acd2bfab2row9_col3 {\n",
       "            background-color:  #fff7fb;\n",
       "            color:  #000000;\n",
       "        }    #T_36967f64_04e2_11ea_bb6e_000acd2bfab2row9_col4 {\n",
       "            background-color:  #fff7fb;\n",
       "            color:  #000000;\n",
       "        }</style><table id=\"T_36967f64_04e2_11ea_bb6e_000acd2bfab2\" ><thead>    <tr>        <th class=\"blank level0\" ></th>        <th class=\"col_heading level0 col0\" >1950</th>        <th class=\"col_heading level0 col1\" >1960</th>        <th class=\"col_heading level0 col2\" >1970</th>        <th class=\"col_heading level0 col3\" >1980</th>        <th class=\"col_heading level0 col4\" >1990</th>    </tr></thead><tbody>\n",
       "                <tr>\n",
       "                        <th id=\"T_36967f64_04e2_11ea_bb6e_000acd2bfab2level0_row0\" class=\"row_heading level0 row0\" >.</th>\n",
       "                        <td id=\"T_36967f64_04e2_11ea_bb6e_000acd2bfab2row0_col0\" class=\"data row0 col0\" >12071</td>\n",
       "                        <td id=\"T_36967f64_04e2_11ea_bb6e_000acd2bfab2row0_col1\" class=\"data row0 col1\" >11936</td>\n",
       "                        <td id=\"T_36967f64_04e2_11ea_bb6e_000acd2bfab2row0_col2\" class=\"data row0 col2\" >11259</td>\n",
       "                        <td id=\"T_36967f64_04e2_11ea_bb6e_000acd2bfab2row0_col3\" class=\"data row0 col3\" >13163</td>\n",
       "                        <td id=\"T_36967f64_04e2_11ea_bb6e_000acd2bfab2row0_col4\" class=\"data row0 col4\" >34279</td>\n",
       "            </tr>\n",
       "            <tr>\n",
       "                        <th id=\"T_36967f64_04e2_11ea_bb6e_000acd2bfab2level0_row1\" class=\"row_heading level0 row1\" >,</th>\n",
       "                        <td id=\"T_36967f64_04e2_11ea_bb6e_000acd2bfab2row1_col0\" class=\"data row1 col0\" >17467</td>\n",
       "                        <td id=\"T_36967f64_04e2_11ea_bb6e_000acd2bfab2row1_col1\" class=\"data row1 col1\" >15867</td>\n",
       "                        <td id=\"T_36967f64_04e2_11ea_bb6e_000acd2bfab2row1_col2\" class=\"data row1 col2\" >9267</td>\n",
       "                        <td id=\"T_36967f64_04e2_11ea_bb6e_000acd2bfab2row1_col3\" class=\"data row1 col3\" >8321</td>\n",
       "                        <td id=\"T_36967f64_04e2_11ea_bb6e_000acd2bfab2row1_col4\" class=\"data row1 col4\" >21037</td>\n",
       "            </tr>\n",
       "            <tr>\n",
       "                        <th id=\"T_36967f64_04e2_11ea_bb6e_000acd2bfab2level0_row2\" class=\"row_heading level0 row2\" >og</th>\n",
       "                        <td id=\"T_36967f64_04e2_11ea_bb6e_000acd2bfab2row2_col0\" class=\"data row2 col0\" >5390</td>\n",
       "                        <td id=\"T_36967f64_04e2_11ea_bb6e_000acd2bfab2row2_col1\" class=\"data row2 col1\" >7173</td>\n",
       "                        <td id=\"T_36967f64_04e2_11ea_bb6e_000acd2bfab2row2_col2\" class=\"data row2 col2\" >6737</td>\n",
       "                        <td id=\"T_36967f64_04e2_11ea_bb6e_000acd2bfab2row2_col3\" class=\"data row2 col3\" >7354</td>\n",
       "                        <td id=\"T_36967f64_04e2_11ea_bb6e_000acd2bfab2row2_col4\" class=\"data row2 col4\" >14818</td>\n",
       "            </tr>\n",
       "            <tr>\n",
       "                        <th id=\"T_36967f64_04e2_11ea_bb6e_000acd2bfab2level0_row3\" class=\"row_heading level0 row3\" >i</th>\n",
       "                        <td id=\"T_36967f64_04e2_11ea_bb6e_000acd2bfab2row3_col0\" class=\"data row3 col0\" >6119</td>\n",
       "                        <td id=\"T_36967f64_04e2_11ea_bb6e_000acd2bfab2row3_col1\" class=\"data row3 col1\" >6332</td>\n",
       "                        <td id=\"T_36967f64_04e2_11ea_bb6e_000acd2bfab2row3_col2\" class=\"data row3 col2\" >4877</td>\n",
       "                        <td id=\"T_36967f64_04e2_11ea_bb6e_000acd2bfab2row3_col3\" class=\"data row3 col3\" >4977</td>\n",
       "                        <td id=\"T_36967f64_04e2_11ea_bb6e_000acd2bfab2row3_col4\" class=\"data row3 col4\" >13764</td>\n",
       "            </tr>\n",
       "            <tr>\n",
       "                        <th id=\"T_36967f64_04e2_11ea_bb6e_000acd2bfab2level0_row4\" class=\"row_heading level0 row4\" >av</th>\n",
       "                        <td id=\"T_36967f64_04e2_11ea_bb6e_000acd2bfab2row4_col0\" class=\"data row4 col0\" >8168</td>\n",
       "                        <td id=\"T_36967f64_04e2_11ea_bb6e_000acd2bfab2row4_col1\" class=\"data row4 col1\" >6090</td>\n",
       "                        <td id=\"T_36967f64_04e2_11ea_bb6e_000acd2bfab2row4_col2\" class=\"data row4 col2\" >4081</td>\n",
       "                        <td id=\"T_36967f64_04e2_11ea_bb6e_000acd2bfab2row4_col3\" class=\"data row4 col3\" >3925</td>\n",
       "                        <td id=\"T_36967f64_04e2_11ea_bb6e_000acd2bfab2row4_col4\" class=\"data row4 col4\" >10388</td>\n",
       "            </tr>\n",
       "            <tr>\n",
       "                        <th id=\"T_36967f64_04e2_11ea_bb6e_000acd2bfab2level0_row5\" class=\"row_heading level0 row5\" >er</th>\n",
       "                        <td id=\"T_36967f64_04e2_11ea_bb6e_000acd2bfab2row5_col0\" class=\"data row5 col0\" >4160</td>\n",
       "                        <td id=\"T_36967f64_04e2_11ea_bb6e_000acd2bfab2row5_col1\" class=\"data row5 col1\" >4317</td>\n",
       "                        <td id=\"T_36967f64_04e2_11ea_bb6e_000acd2bfab2row5_col2\" class=\"data row5 col2\" >3709</td>\n",
       "                        <td id=\"T_36967f64_04e2_11ea_bb6e_000acd2bfab2row5_col3\" class=\"data row5 col3\" >4237</td>\n",
       "                        <td id=\"T_36967f64_04e2_11ea_bb6e_000acd2bfab2row5_col4\" class=\"data row5 col4\" >11316</td>\n",
       "            </tr>\n",
       "            <tr>\n",
       "                        <th id=\"T_36967f64_04e2_11ea_bb6e_000acd2bfab2level0_row6\" class=\"row_heading level0 row6\" >som</th>\n",
       "                        <td id=\"T_36967f64_04e2_11ea_bb6e_000acd2bfab2row6_col0\" class=\"data row6 col0\" >2820</td>\n",
       "                        <td id=\"T_36967f64_04e2_11ea_bb6e_000acd2bfab2row6_col1\" class=\"data row6 col1\" >3321</td>\n",
       "                        <td id=\"T_36967f64_04e2_11ea_bb6e_000acd2bfab2row6_col2\" class=\"data row6 col2\" >2894</td>\n",
       "                        <td id=\"T_36967f64_04e2_11ea_bb6e_000acd2bfab2row6_col3\" class=\"data row6 col3\" >2873</td>\n",
       "                        <td id=\"T_36967f64_04e2_11ea_bb6e_000acd2bfab2row6_col4\" class=\"data row6 col4\" >7288</td>\n",
       "            </tr>\n",
       "            <tr>\n",
       "                        <th id=\"T_36967f64_04e2_11ea_bb6e_000acd2bfab2level0_row7\" class=\"row_heading level0 row7\" >en</th>\n",
       "                        <td id=\"T_36967f64_04e2_11ea_bb6e_000acd2bfab2row7_col0\" class=\"data row7 col0\" >2755</td>\n",
       "                        <td id=\"T_36967f64_04e2_11ea_bb6e_000acd2bfab2row7_col1\" class=\"data row7 col1\" >3009</td>\n",
       "                        <td id=\"T_36967f64_04e2_11ea_bb6e_000acd2bfab2row7_col2\" class=\"data row7 col2\" >2871</td>\n",
       "                        <td id=\"T_36967f64_04e2_11ea_bb6e_000acd2bfab2row7_col3\" class=\"data row7 col3\" >2621</td>\n",
       "                        <td id=\"T_36967f64_04e2_11ea_bb6e_000acd2bfab2row7_col4\" class=\"data row7 col4\" >6942</td>\n",
       "            </tr>\n",
       "            <tr>\n",
       "                        <th id=\"T_36967f64_04e2_11ea_bb6e_000acd2bfab2level0_row8\" class=\"row_heading level0 row8\" >har</th>\n",
       "                        <td id=\"T_36967f64_04e2_11ea_bb6e_000acd2bfab2row8_col0\" class=\"data row8 col0\" >2941</td>\n",
       "                        <td id=\"T_36967f64_04e2_11ea_bb6e_000acd2bfab2row8_col1\" class=\"data row8 col1\" >3431</td>\n",
       "                        <td id=\"T_36967f64_04e2_11ea_bb6e_000acd2bfab2row8_col2\" class=\"data row8 col2\" >2862</td>\n",
       "                        <td id=\"T_36967f64_04e2_11ea_bb6e_000acd2bfab2row8_col3\" class=\"data row8 col3\" >3042</td>\n",
       "                        <td id=\"T_36967f64_04e2_11ea_bb6e_000acd2bfab2row8_col4\" class=\"data row8 col4\" >8100</td>\n",
       "            </tr>\n",
       "            <tr>\n",
       "                        <th id=\"T_36967f64_04e2_11ea_bb6e_000acd2bfab2level0_row9\" class=\"row_heading level0 row9\" >det</th>\n",
       "                        <td id=\"T_36967f64_04e2_11ea_bb6e_000acd2bfab2row9_col0\" class=\"data row9 col0\" >3563</td>\n",
       "                        <td id=\"T_36967f64_04e2_11ea_bb6e_000acd2bfab2row9_col1\" class=\"data row9 col1\" >3698</td>\n",
       "                        <td id=\"T_36967f64_04e2_11ea_bb6e_000acd2bfab2row9_col2\" class=\"data row9 col2\" >2748</td>\n",
       "                        <td id=\"T_36967f64_04e2_11ea_bb6e_000acd2bfab2row9_col3\" class=\"data row9 col3\" >2594</td>\n",
       "                        <td id=\"T_36967f64_04e2_11ea_bb6e_000acd2bfab2row9_col4\" class=\"data row9 col4\" >6423</td>\n",
       "            </tr>\n",
       "    </tbody></table>"
      ],
      "text/plain": [
       "<pandas.io.formats.style.Styler at 0x18f9c02a1d0>"
      ]
     },
     "execution_count": 53,
     "metadata": {},
     "output_type": "execute_result"
    }
   ],
   "source": [
    "agg.sort_values(by=agg.columns[2], ascending=False)[:10].style.background_gradient()"
   ]
  },
  {
   "cell_type": "code",
   "execution_count": 104,
   "metadata": {},
   "outputs": [
    {
     "data": {
      "text/plain": [
       "True"
      ]
     },
     "execution_count": 104,
     "metadata": {},
     "output_type": "execute_result"
    }
   ],
   "source": [
    "nb.normalize_corpus_dataframe(agg)"
   ]
  },
  {
   "cell_type": "code",
   "execution_count": 107,
   "metadata": {},
   "outputs": [
    {
     "data": {
      "text/plain": [
       "True"
      ]
     },
     "execution_count": 107,
     "metadata": {},
     "output_type": "execute_result"
    }
   ],
   "source": [
    "nb.normalize_corpus_dataframe(tot)"
   ]
  },
  {
   "cell_type": "code",
   "execution_count": 125,
   "metadata": {},
   "outputs": [],
   "source": [
    "pmi = pd.DataFrame()\n",
    "for i in agg:\n",
    "    pmi[i] = agg[i]**1.02/(pd.concat([agg[i], tot]).fillna(0).sum(axis=1))"
   ]
  },
  {
   "cell_type": "code",
   "execution_count": 127,
   "metadata": {},
   "outputs": [],
   "source": [
    "pmi = pd.DataFrame()\n",
    "for i in agg:\n",
    "    pmi[i] = agg[i]/tot.tot"
   ]
  },
  {
   "cell_type": "code",
   "execution_count": 140,
   "metadata": {},
   "outputs": [
    {
     "data": {
      "text/plain": [
       "True"
      ]
     },
     "execution_count": 140,
     "metadata": {},
     "output_type": "execute_result"
    }
   ],
   "source": [
    "nb.normalize_corpus_dataframe(pmi)"
   ]
  },
  {
   "cell_type": "markdown",
   "metadata": {},
   "source": [
    "# Sammenligner med en referanse\n",
    "\n",
    "\n",
    "<br>\n",
    "\n",
    "<span style=\"font-size:150%\">`tot = nb.frame(nb.totals(50000), 'tot')`</span>"
   ]
  },
  {
   "cell_type": "markdown",
   "metadata": {},
   "source": [
    "<br>\n",
    "<br>\n",
    "<br>\n",
    "<br>\n",
    "\n",
    "\n",
    "# De 15 beste for passende kolonne"
   ]
  },
  {
   "cell_type": "code",
   "execution_count": 183,
   "metadata": {},
   "outputs": [
    {
     "data": {
      "text/html": [
       "<style  type=\"text/css\" >\n",
       "    #T_87ee8450_04e7_11ea_9c1a_000acd2bfab2row0_col0 {\n",
       "            background-color:  #023858;\n",
       "            color:  #f1f1f1;\n",
       "        }    #T_87ee8450_04e7_11ea_9c1a_000acd2bfab2row0_col1 {\n",
       "            background-color:  #023858;\n",
       "            color:  #f1f1f1;\n",
       "        }    #T_87ee8450_04e7_11ea_9c1a_000acd2bfab2row0_col2 {\n",
       "            background-color:  #023858;\n",
       "            color:  #f1f1f1;\n",
       "        }    #T_87ee8450_04e7_11ea_9c1a_000acd2bfab2row0_col3 {\n",
       "            background-color:  #023858;\n",
       "            color:  #f1f1f1;\n",
       "        }    #T_87ee8450_04e7_11ea_9c1a_000acd2bfab2row0_col4 {\n",
       "            background-color:  #023858;\n",
       "            color:  #f1f1f1;\n",
       "        }    #T_87ee8450_04e7_11ea_9c1a_000acd2bfab2row1_col0 {\n",
       "            background-color:  #03456c;\n",
       "            color:  #f1f1f1;\n",
       "        }    #T_87ee8450_04e7_11ea_9c1a_000acd2bfab2row1_col1 {\n",
       "            background-color:  #88b1d4;\n",
       "            color:  #000000;\n",
       "        }    #T_87ee8450_04e7_11ea_9c1a_000acd2bfab2row1_col2 {\n",
       "            background-color:  #c5cce3;\n",
       "            color:  #000000;\n",
       "        }    #T_87ee8450_04e7_11ea_9c1a_000acd2bfab2row1_col3 {\n",
       "            background-color:  #e9e5f1;\n",
       "            color:  #000000;\n",
       "        }    #T_87ee8450_04e7_11ea_9c1a_000acd2bfab2row1_col4 {\n",
       "            background-color:  #d0d1e6;\n",
       "            color:  #000000;\n",
       "        }    #T_87ee8450_04e7_11ea_9c1a_000acd2bfab2row2_col0 {\n",
       "            background-color:  #3991c1;\n",
       "            color:  #000000;\n",
       "        }    #T_87ee8450_04e7_11ea_9c1a_000acd2bfab2row2_col1 {\n",
       "            background-color:  #fff7fb;\n",
       "            color:  #000000;\n",
       "        }    #T_87ee8450_04e7_11ea_9c1a_000acd2bfab2row2_col2 {\n",
       "            background-color:  #fff7fb;\n",
       "            color:  #000000;\n",
       "        }    #T_87ee8450_04e7_11ea_9c1a_000acd2bfab2row2_col3 {\n",
       "            background-color:  #fff7fb;\n",
       "            color:  #000000;\n",
       "        }    #T_87ee8450_04e7_11ea_9c1a_000acd2bfab2row2_col4 {\n",
       "            background-color:  #fef6fb;\n",
       "            color:  #000000;\n",
       "        }    #T_87ee8450_04e7_11ea_9c1a_000acd2bfab2row3_col0 {\n",
       "            background-color:  #5c9fc9;\n",
       "            color:  #000000;\n",
       "        }    #T_87ee8450_04e7_11ea_9c1a_000acd2bfab2row3_col1 {\n",
       "            background-color:  #bcc7e1;\n",
       "            color:  #000000;\n",
       "        }    #T_87ee8450_04e7_11ea_9c1a_000acd2bfab2row3_col2 {\n",
       "            background-color:  #f4eef6;\n",
       "            color:  #000000;\n",
       "        }    #T_87ee8450_04e7_11ea_9c1a_000acd2bfab2row3_col3 {\n",
       "            background-color:  #fdf5fa;\n",
       "            color:  #000000;\n",
       "        }    #T_87ee8450_04e7_11ea_9c1a_000acd2bfab2row3_col4 {\n",
       "            background-color:  #fdf5fa;\n",
       "            color:  #000000;\n",
       "        }    #T_87ee8450_04e7_11ea_9c1a_000acd2bfab2row4_col0 {\n",
       "            background-color:  #6da6cd;\n",
       "            color:  #000000;\n",
       "        }    #T_87ee8450_04e7_11ea_9c1a_000acd2bfab2row4_col1 {\n",
       "            background-color:  #e1dfed;\n",
       "            color:  #000000;\n",
       "        }    #T_87ee8450_04e7_11ea_9c1a_000acd2bfab2row4_col2 {\n",
       "            background-color:  #a1bbda;\n",
       "            color:  #000000;\n",
       "        }    #T_87ee8450_04e7_11ea_9c1a_000acd2bfab2row4_col3 {\n",
       "            background-color:  #e0dded;\n",
       "            color:  #000000;\n",
       "        }    #T_87ee8450_04e7_11ea_9c1a_000acd2bfab2row4_col4 {\n",
       "            background-color:  #91b5d6;\n",
       "            color:  #000000;\n",
       "        }    #T_87ee8450_04e7_11ea_9c1a_000acd2bfab2row5_col0 {\n",
       "            background-color:  #89b1d4;\n",
       "            color:  #000000;\n",
       "        }    #T_87ee8450_04e7_11ea_9c1a_000acd2bfab2row5_col1 {\n",
       "            background-color:  #eae6f1;\n",
       "            color:  #000000;\n",
       "        }    #T_87ee8450_04e7_11ea_9c1a_000acd2bfab2row5_col2 {\n",
       "            background-color:  #f7f0f7;\n",
       "            color:  #000000;\n",
       "        }    #T_87ee8450_04e7_11ea_9c1a_000acd2bfab2row5_col3 {\n",
       "            background-color:  #fff7fb;\n",
       "            color:  #000000;\n",
       "        }    #T_87ee8450_04e7_11ea_9c1a_000acd2bfab2row5_col4 {\n",
       "            background-color:  #fef6fa;\n",
       "            color:  #000000;\n",
       "        }    #T_87ee8450_04e7_11ea_9c1a_000acd2bfab2row6_col0 {\n",
       "            background-color:  #b0c2de;\n",
       "            color:  #000000;\n",
       "        }    #T_87ee8450_04e7_11ea_9c1a_000acd2bfab2row6_col1 {\n",
       "            background-color:  #f6eff7;\n",
       "            color:  #000000;\n",
       "        }    #T_87ee8450_04e7_11ea_9c1a_000acd2bfab2row6_col2 {\n",
       "            background-color:  #fdf5fa;\n",
       "            color:  #000000;\n",
       "        }    #T_87ee8450_04e7_11ea_9c1a_000acd2bfab2row6_col3 {\n",
       "            background-color:  #fff7fb;\n",
       "            color:  #000000;\n",
       "        }    #T_87ee8450_04e7_11ea_9c1a_000acd2bfab2row6_col4 {\n",
       "            background-color:  #fef6fb;\n",
       "            color:  #000000;\n",
       "        }    #T_87ee8450_04e7_11ea_9c1a_000acd2bfab2row7_col0 {\n",
       "            background-color:  #bcc7e1;\n",
       "            color:  #000000;\n",
       "        }    #T_87ee8450_04e7_11ea_9c1a_000acd2bfab2row7_col1 {\n",
       "            background-color:  #e2dfee;\n",
       "            color:  #000000;\n",
       "        }    #T_87ee8450_04e7_11ea_9c1a_000acd2bfab2row7_col2 {\n",
       "            background-color:  #f8f1f8;\n",
       "            color:  #000000;\n",
       "        }    #T_87ee8450_04e7_11ea_9c1a_000acd2bfab2row7_col3 {\n",
       "            background-color:  #fef6fb;\n",
       "            color:  #000000;\n",
       "        }    #T_87ee8450_04e7_11ea_9c1a_000acd2bfab2row7_col4 {\n",
       "            background-color:  #fef6fa;\n",
       "            color:  #000000;\n",
       "        }    #T_87ee8450_04e7_11ea_9c1a_000acd2bfab2row8_col0 {\n",
       "            background-color:  #bdc8e1;\n",
       "            color:  #000000;\n",
       "        }    #T_87ee8450_04e7_11ea_9c1a_000acd2bfab2row8_col1 {\n",
       "            background-color:  #d8d7e9;\n",
       "            color:  #000000;\n",
       "        }    #T_87ee8450_04e7_11ea_9c1a_000acd2bfab2row8_col2 {\n",
       "            background-color:  #b8c6e0;\n",
       "            color:  #000000;\n",
       "        }    #T_87ee8450_04e7_11ea_9c1a_000acd2bfab2row8_col3 {\n",
       "            background-color:  #dad9ea;\n",
       "            color:  #000000;\n",
       "        }    #T_87ee8450_04e7_11ea_9c1a_000acd2bfab2row8_col4 {\n",
       "            background-color:  #86b0d3;\n",
       "            color:  #000000;\n",
       "        }    #T_87ee8450_04e7_11ea_9c1a_000acd2bfab2row9_col0 {\n",
       "            background-color:  #f4eef6;\n",
       "            color:  #000000;\n",
       "        }    #T_87ee8450_04e7_11ea_9c1a_000acd2bfab2row9_col1 {\n",
       "            background-color:  #e0deed;\n",
       "            color:  #000000;\n",
       "        }    #T_87ee8450_04e7_11ea_9c1a_000acd2bfab2row9_col2 {\n",
       "            background-color:  #f2ecf5;\n",
       "            color:  #000000;\n",
       "        }    #T_87ee8450_04e7_11ea_9c1a_000acd2bfab2row9_col3 {\n",
       "            background-color:  #f6eff7;\n",
       "            color:  #000000;\n",
       "        }    #T_87ee8450_04e7_11ea_9c1a_000acd2bfab2row9_col4 {\n",
       "            background-color:  #e8e4f0;\n",
       "            color:  #000000;\n",
       "        }    #T_87ee8450_04e7_11ea_9c1a_000acd2bfab2row10_col0 {\n",
       "            background-color:  #f4eef6;\n",
       "            color:  #000000;\n",
       "        }    #T_87ee8450_04e7_11ea_9c1a_000acd2bfab2row10_col1 {\n",
       "            background-color:  #d7d6e9;\n",
       "            color:  #000000;\n",
       "        }    #T_87ee8450_04e7_11ea_9c1a_000acd2bfab2row10_col2 {\n",
       "            background-color:  #f3edf5;\n",
       "            color:  #000000;\n",
       "        }    #T_87ee8450_04e7_11ea_9c1a_000acd2bfab2row10_col3 {\n",
       "            background-color:  #fff7fb;\n",
       "            color:  #000000;\n",
       "        }    #T_87ee8450_04e7_11ea_9c1a_000acd2bfab2row10_col4 {\n",
       "            background-color:  #fff7fb;\n",
       "            color:  #000000;\n",
       "        }    #T_87ee8450_04e7_11ea_9c1a_000acd2bfab2row11_col0 {\n",
       "            background-color:  #f8f1f8;\n",
       "            color:  #000000;\n",
       "        }    #T_87ee8450_04e7_11ea_9c1a_000acd2bfab2row11_col1 {\n",
       "            background-color:  #f1ebf4;\n",
       "            color:  #000000;\n",
       "        }    #T_87ee8450_04e7_11ea_9c1a_000acd2bfab2row11_col2 {\n",
       "            background-color:  #fdf5fa;\n",
       "            color:  #000000;\n",
       "        }    #T_87ee8450_04e7_11ea_9c1a_000acd2bfab2row11_col3 {\n",
       "            background-color:  #fef6fa;\n",
       "            color:  #000000;\n",
       "        }    #T_87ee8450_04e7_11ea_9c1a_000acd2bfab2row11_col4 {\n",
       "            background-color:  #fef6fb;\n",
       "            color:  #000000;\n",
       "        }    #T_87ee8450_04e7_11ea_9c1a_000acd2bfab2row12_col0 {\n",
       "            background-color:  #faf2f8;\n",
       "            color:  #000000;\n",
       "        }    #T_87ee8450_04e7_11ea_9c1a_000acd2bfab2row12_col1 {\n",
       "            background-color:  #e7e3f0;\n",
       "            color:  #000000;\n",
       "        }    #T_87ee8450_04e7_11ea_9c1a_000acd2bfab2row12_col2 {\n",
       "            background-color:  #f8f1f8;\n",
       "            color:  #000000;\n",
       "        }    #T_87ee8450_04e7_11ea_9c1a_000acd2bfab2row12_col3 {\n",
       "            background-color:  #fdf5fa;\n",
       "            color:  #000000;\n",
       "        }    #T_87ee8450_04e7_11ea_9c1a_000acd2bfab2row12_col4 {\n",
       "            background-color:  #fdf5fa;\n",
       "            color:  #000000;\n",
       "        }    #T_87ee8450_04e7_11ea_9c1a_000acd2bfab2row13_col0 {\n",
       "            background-color:  #faf3f9;\n",
       "            color:  #000000;\n",
       "        }    #T_87ee8450_04e7_11ea_9c1a_000acd2bfab2row13_col1 {\n",
       "            background-color:  #f9f2f8;\n",
       "            color:  #000000;\n",
       "        }    #T_87ee8450_04e7_11ea_9c1a_000acd2bfab2row13_col2 {\n",
       "            background-color:  #fbf3f9;\n",
       "            color:  #000000;\n",
       "        }    #T_87ee8450_04e7_11ea_9c1a_000acd2bfab2row13_col3 {\n",
       "            background-color:  #fef6fb;\n",
       "            color:  #000000;\n",
       "        }    #T_87ee8450_04e7_11ea_9c1a_000acd2bfab2row13_col4 {\n",
       "            background-color:  #fdf5fa;\n",
       "            color:  #000000;\n",
       "        }    #T_87ee8450_04e7_11ea_9c1a_000acd2bfab2row14_col0 {\n",
       "            background-color:  #fff7fb;\n",
       "            color:  #000000;\n",
       "        }    #T_87ee8450_04e7_11ea_9c1a_000acd2bfab2row14_col1 {\n",
       "            background-color:  #f3edf5;\n",
       "            color:  #000000;\n",
       "        }    #T_87ee8450_04e7_11ea_9c1a_000acd2bfab2row14_col2 {\n",
       "            background-color:  #f9f2f8;\n",
       "            color:  #000000;\n",
       "        }    #T_87ee8450_04e7_11ea_9c1a_000acd2bfab2row14_col3 {\n",
       "            background-color:  #f7f0f7;\n",
       "            color:  #000000;\n",
       "        }    #T_87ee8450_04e7_11ea_9c1a_000acd2bfab2row14_col4 {\n",
       "            background-color:  #f5eef6;\n",
       "            color:  #000000;\n",
       "        }</style><table id=\"T_87ee8450_04e7_11ea_9c1a_000acd2bfab2\" ><thead>    <tr>        <th class=\"blank level0\" ></th>        <th class=\"col_heading level0 col0\" >1950</th>        <th class=\"col_heading level0 col1\" >1960</th>        <th class=\"col_heading level0 col2\" >1970</th>        <th class=\"col_heading level0 col3\" >1980</th>        <th class=\"col_heading level0 col4\" >1990</th>    </tr></thead><tbody>\n",
       "                <tr>\n",
       "                        <th id=\"T_87ee8450_04e7_11ea_9c1a_000acd2bfab2level0_row0\" class=\"row_heading level0 row0\" >forkjølelse</th>\n",
       "                        <td id=\"T_87ee8450_04e7_11ea_9c1a_000acd2bfab2row0_col0\" class=\"data row0 col0\" >0.0327151</td>\n",
       "                        <td id=\"T_87ee8450_04e7_11ea_9c1a_000acd2bfab2row0_col1\" class=\"data row0 col1\" >0.0497996</td>\n",
       "                        <td id=\"T_87ee8450_04e7_11ea_9c1a_000acd2bfab2row0_col2\" class=\"data row0 col2\" >0.0483641</td>\n",
       "                        <td id=\"T_87ee8450_04e7_11ea_9c1a_000acd2bfab2row0_col3\" class=\"data row0 col3\" >0.0694468</td>\n",
       "                        <td id=\"T_87ee8450_04e7_11ea_9c1a_000acd2bfab2row0_col4\" class=\"data row0 col4\" >0.0400448</td>\n",
       "            </tr>\n",
       "            <tr>\n",
       "                        <th id=\"T_87ee8450_04e7_11ea_9c1a_000acd2bfab2level0_row1\" class=\"row_heading level0 row1\" >lungebetennelse</th>\n",
       "                        <td id=\"T_87ee8450_04e7_11ea_9c1a_000acd2bfab2row1_col0\" class=\"data row1 col0\" >0.031437</td>\n",
       "                        <td id=\"T_87ee8450_04e7_11ea_9c1a_000acd2bfab2row1_col1\" class=\"data row1 col1\" >0.0228154</td>\n",
       "                        <td id=\"T_87ee8450_04e7_11ea_9c1a_000acd2bfab2row1_col2\" class=\"data row1 col2\" >0.0139693</td>\n",
       "                        <td id=\"T_87ee8450_04e7_11ea_9c1a_000acd2bfab2row1_col3\" class=\"data row1 col3\" >0.00959096</td>\n",
       "                        <td id=\"T_87ee8450_04e7_11ea_9c1a_000acd2bfab2row1_col4\" class=\"data row1 col4\" >0.0100889</td>\n",
       "            </tr>\n",
       "            <tr>\n",
       "                        <th id=\"T_87ee8450_04e7_11ea_9c1a_000acd2bfab2level0_row2\" class=\"row_heading level0 row2\" >asiatiske</th>\n",
       "                        <td id=\"T_87ee8450_04e7_11ea_9c1a_000acd2bfab2row2_col0\" class=\"data row2 col0\" >0.0223415</td>\n",
       "                        <td id=\"T_87ee8450_04e7_11ea_9c1a_000acd2bfab2row2_col1\" class=\"data row2 col1\" >0.000746101</td>\n",
       "                        <td id=\"T_87ee8450_04e7_11ea_9c1a_000acd2bfab2row2_col2\" class=\"data row2 col2\" >0.000418765</td>\n",
       "                        <td id=\"T_87ee8450_04e7_11ea_9c1a_000acd2bfab2row2_col3\" class=\"data row2 col3\" >8.13203e-05</td>\n",
       "                        <td id=\"T_87ee8450_04e7_11ea_9c1a_000acd2bfab2row2_col4\" class=\"data row2 col4\" >0.00024246</td>\n",
       "            </tr>\n",
       "            <tr>\n",
       "                        <th id=\"T_87ee8450_04e7_11ea_9c1a_000acd2bfab2level0_row3\" class=\"row_heading level0 row3\" >diaré</th>\n",
       "                        <td id=\"T_87ee8450_04e7_11ea_9c1a_000acd2bfab2row3_col0\" class=\"data row3 col0\" >0.020374</td>\n",
       "                        <td id=\"T_87ee8450_04e7_11ea_9c1a_000acd2bfab2row3_col1\" class=\"data row3 col1\" >0.0159674</td>\n",
       "                        <td id=\"T_87ee8450_04e7_11ea_9c1a_000acd2bfab2row3_col2\" class=\"data row3 col2\" >0.0038161</td>\n",
       "                        <td id=\"T_87ee8450_04e7_11ea_9c1a_000acd2bfab2row3_col3\" class=\"data row3 col3\" >0.00086456</td>\n",
       "                        <td id=\"T_87ee8450_04e7_11ea_9c1a_000acd2bfab2row3_col4\" class=\"data row3 col4\" >0.000797866</td>\n",
       "            </tr>\n",
       "            <tr>\n",
       "                        <th id=\"T_87ee8450_04e7_11ea_9c1a_000acd2bfab2level0_row4\" class=\"row_heading level0 row4\" >vaksine</th>\n",
       "                        <td id=\"T_87ee8450_04e7_11ea_9c1a_000acd2bfab2row4_col0\" class=\"data row4 col0\" >0.0195096</td>\n",
       "                        <td id=\"T_87ee8450_04e7_11ea_9c1a_000acd2bfab2row4_col1\" class=\"data row4 col1\" >0.00919875</td>\n",
       "                        <td id=\"T_87ee8450_04e7_11ea_9c1a_000acd2bfab2row4_col2\" class=\"data row4 col2\" >0.019019</td>\n",
       "                        <td id=\"T_87ee8450_04e7_11ea_9c1a_000acd2bfab2row4_col3\" class=\"data row4 col3\" >0.012653</td>\n",
       "                        <td id=\"T_87ee8450_04e7_11ea_9c1a_000acd2bfab2row4_col4\" class=\"data row4 col4\" >0.0172378</td>\n",
       "            </tr>\n",
       "            <tr>\n",
       "                        <th id=\"T_87ee8450_04e7_11ea_9c1a_000acd2bfab2level0_row5\" class=\"row_heading level0 row5\" >rosen</th>\n",
       "                        <td id=\"T_87ee8450_04e7_11ea_9c1a_000acd2bfab2row5_col0\" class=\"data row5 col0\" >0.0176418</td>\n",
       "                        <td id=\"T_87ee8450_04e7_11ea_9c1a_000acd2bfab2row5_col1\" class=\"data row5 col1\" >0.00744994</td>\n",
       "                        <td id=\"T_87ee8450_04e7_11ea_9c1a_000acd2bfab2row5_col2\" class=\"data row5 col2\" >0.00321154</td>\n",
       "                        <td id=\"T_87ee8450_04e7_11ea_9c1a_000acd2bfab2row5_col3\" class=\"data row5 col3\" >0.000105704</td>\n",
       "                        <td id=\"T_87ee8450_04e7_11ea_9c1a_000acd2bfab2row5_col4\" class=\"data row5 col4\" >0.000374252</td>\n",
       "            </tr>\n",
       "            <tr>\n",
       "                        <th id=\"T_87ee8450_04e7_11ea_9c1a_000acd2bfab2level0_row6\" class=\"row_heading level0 row6\" >asiatisk</th>\n",
       "                        <td id=\"T_87ee8450_04e7_11ea_9c1a_000acd2bfab2row6_col0\" class=\"data row6 col0\" >0.0148483</td>\n",
       "                        <td id=\"T_87ee8450_04e7_11ea_9c1a_000acd2bfab2row6_col1\" class=\"data row6 col1\" >0.00365863</td>\n",
       "                        <td id=\"T_87ee8450_04e7_11ea_9c1a_000acd2bfab2row6_col2\" class=\"data row6 col2\" >0.0009821</td>\n",
       "                        <td id=\"T_87ee8450_04e7_11ea_9c1a_000acd2bfab2row6_col3\" class=\"data row6 col3\" >0</td>\n",
       "                        <td id=\"T_87ee8450_04e7_11ea_9c1a_000acd2bfab2row6_col4\" class=\"data row6 col4\" >0.000284312</td>\n",
       "            </tr>\n",
       "            <tr>\n",
       "                        <th id=\"T_87ee8450_04e7_11ea_9c1a_000acd2bfab2level0_row7\" class=\"row_heading level0 row7\" >akutt</th>\n",
       "                        <td id=\"T_87ee8450_04e7_11ea_9c1a_000acd2bfab2row7_col0\" class=\"data row7 col0\" >0.0138805</td>\n",
       "                        <td id=\"T_87ee8450_04e7_11ea_9c1a_000acd2bfab2row7_col1\" class=\"data row7 col1\" >0.00915009</td>\n",
       "                        <td id=\"T_87ee8450_04e7_11ea_9c1a_000acd2bfab2row7_col2\" class=\"data row7 col2\" >0.00274412</td>\n",
       "                        <td id=\"T_87ee8450_04e7_11ea_9c1a_000acd2bfab2row7_col3\" class=\"data row7 col3\" >0.000299067</td>\n",
       "                        <td id=\"T_87ee8450_04e7_11ea_9c1a_000acd2bfab2row7_col4\" class=\"data row7 col4\" >0.000491437</td>\n",
       "            </tr>\n",
       "            <tr>\n",
       "                        <th id=\"T_87ee8450_04e7_11ea_9c1a_000acd2bfab2level0_row8\" class=\"row_heading level0 row8\" >influensa</th>\n",
       "                        <td id=\"T_87ee8450_04e7_11ea_9c1a_000acd2bfab2row8_col0\" class=\"data row8 col0\" >0.0138482</td>\n",
       "                        <td id=\"T_87ee8450_04e7_11ea_9c1a_000acd2bfab2row8_col1\" class=\"data row8 col1\" >0.0114498</td>\n",
       "                        <td id=\"T_87ee8450_04e7_11ea_9c1a_000acd2bfab2row8_col2\" class=\"data row8 col2\" >0.015809</td>\n",
       "                        <td id=\"T_87ee8450_04e7_11ea_9c1a_000acd2bfab2row8_col3\" class=\"data row8 col3\" >0.0142267</td>\n",
       "                        <td id=\"T_87ee8450_04e7_11ea_9c1a_000acd2bfab2row8_col4\" class=\"data row8 col4\" >0.018232</td>\n",
       "            </tr>\n",
       "            <tr>\n",
       "                        <th id=\"T_87ee8450_04e7_11ea_9c1a_000acd2bfab2level0_row9\" class=\"row_heading level0 row9\" >NTB</th>\n",
       "                        <td id=\"T_87ee8450_04e7_11ea_9c1a_000acd2bfab2row9_col0\" class=\"data row9 col0\" >0.00745721</td>\n",
       "                        <td id=\"T_87ee8450_04e7_11ea_9c1a_000acd2bfab2row9_col1\" class=\"data row9 col1\" >0.00950177</td>\n",
       "                        <td id=\"T_87ee8450_04e7_11ea_9c1a_000acd2bfab2row9_col2\" class=\"data row9 col2\" >0.00472569</td>\n",
       "                        <td id=\"T_87ee8450_04e7_11ea_9c1a_000acd2bfab2row9_col3\" class=\"data row9 col3\" >0.0041665</td>\n",
       "                        <td id=\"T_87ee8450_04e7_11ea_9c1a_000acd2bfab2row9_col4\" class=\"data row9 col4\" >0.00577887</td>\n",
       "            </tr>\n",
       "            <tr>\n",
       "                        <th id=\"T_87ee8450_04e7_11ea_9c1a_000acd2bfab2level0_row10\" class=\"row_heading level0 row10\" >rode</th>\n",
       "                        <td id=\"T_87ee8450_04e7_11ea_9c1a_000acd2bfab2row10_col0\" class=\"data row10 col0\" >0.00742908</td>\n",
       "                        <td id=\"T_87ee8450_04e7_11ea_9c1a_000acd2bfab2row10_col1\" class=\"data row10 col1\" >0.0115736</td>\n",
       "                        <td id=\"T_87ee8450_04e7_11ea_9c1a_000acd2bfab2row10_col2\" class=\"data row10 col2\" >0.00429039</td>\n",
       "                        <td id=\"T_87ee8450_04e7_11ea_9c1a_000acd2bfab2row10_col3\" class=\"data row10 col3\" >5.99392e-05</td>\n",
       "                        <td id=\"T_87ee8450_04e7_11ea_9c1a_000acd2bfab2row10_col4\" class=\"data row10 col4\" >5.58472e-05</td>\n",
       "            </tr>\n",
       "            <tr>\n",
       "                        <th id=\"T_87ee8450_04e7_11ea_9c1a_000acd2bfab2level0_row11\" class=\"row_heading level0 row11\" >akutte</th>\n",
       "                        <td id=\"T_87ee8450_04e7_11ea_9c1a_000acd2bfab2row11_col0\" class=\"data row11 col0\" >0.00678939</td>\n",
       "                        <td id=\"T_87ee8450_04e7_11ea_9c1a_000acd2bfab2row11_col1\" class=\"data row11 col1\" >0.00547336</td>\n",
       "                        <td id=\"T_87ee8450_04e7_11ea_9c1a_000acd2bfab2row11_col2\" class=\"data row11 col2\" >0.0013316</td>\n",
       "                        <td id=\"T_87ee8450_04e7_11ea_9c1a_000acd2bfab2row11_col3\" class=\"data row11 col3\" >0.000585473</td>\n",
       "                        <td id=\"T_87ee8450_04e7_11ea_9c1a_000acd2bfab2row11_col4\" class=\"data row11 col4\" >0.000245477</td>\n",
       "            </tr>\n",
       "            <tr>\n",
       "                        <th id=\"T_87ee8450_04e7_11ea_9c1a_000acd2bfab2level0_row12\" class=\"row_heading level0 row12\" >ondartet</th>\n",
       "                        <td id=\"T_87ee8450_04e7_11ea_9c1a_000acd2bfab2row12_col0\" class=\"data row12 col0\" >0.00649436</td>\n",
       "                        <td id=\"T_87ee8450_04e7_11ea_9c1a_000acd2bfab2row12_col1\" class=\"data row12 col1\" >0.00814267</td>\n",
       "                        <td id=\"T_87ee8450_04e7_11ea_9c1a_000acd2bfab2row12_col2\" class=\"data row12 col2\" >0.00249139</td>\n",
       "                        <td id=\"T_87ee8450_04e7_11ea_9c1a_000acd2bfab2row12_col3\" class=\"data row12 col3\" >0.00112312</td>\n",
       "                        <td id=\"T_87ee8450_04e7_11ea_9c1a_000acd2bfab2row12_col4\" class=\"data row12 col4\" >0.000643966</td>\n",
       "            </tr>\n",
       "            <tr>\n",
       "                        <th id=\"T_87ee8450_04e7_11ea_9c1a_000acd2bfab2level0_row13\" class=\"row_heading level0 row13\" >meldt</th>\n",
       "                        <td id=\"T_87ee8450_04e7_11ea_9c1a_000acd2bfab2row13_col0\" class=\"data row13 col0\" >0.00632477</td>\n",
       "                        <td id=\"T_87ee8450_04e7_11ea_9c1a_000acd2bfab2row13_col1\" class=\"data row13 col1\" >0.00280126</td>\n",
       "                        <td id=\"T_87ee8450_04e7_11ea_9c1a_000acd2bfab2row13_col2\" class=\"data row13 col2\" >0.00187507</td>\n",
       "                        <td id=\"T_87ee8450_04e7_11ea_9c1a_000acd2bfab2row13_col3\" class=\"data row13 col3\" >0.000429708</td>\n",
       "                        <td id=\"T_87ee8450_04e7_11ea_9c1a_000acd2bfab2row13_col4\" class=\"data row13 col4\" >0.000581594</td>\n",
       "            </tr>\n",
       "            <tr>\n",
       "                        <th id=\"T_87ee8450_04e7_11ea_9c1a_000acd2bfab2level0_row14\" class=\"row_heading level0 row14\" >epidemier</th>\n",
       "                        <td id=\"T_87ee8450_04e7_11ea_9c1a_000acd2bfab2row14_col0\" class=\"data row14 col0\" >0.00547218</td>\n",
       "                        <td id=\"T_87ee8450_04e7_11ea_9c1a_000acd2bfab2row14_col1\" class=\"data row14 col1\" >0.00474235</td>\n",
       "                        <td id=\"T_87ee8450_04e7_11ea_9c1a_000acd2bfab2row14_col2\" class=\"data row14 col2\" >0.00232024</td>\n",
       "                        <td id=\"T_87ee8450_04e7_11ea_9c1a_000acd2bfab2row14_col3\" class=\"data row14 col3\" >0.00396929</td>\n",
       "                        <td id=\"T_87ee8450_04e7_11ea_9c1a_000acd2bfab2row14_col4\" class=\"data row14 col4\" >0.00275874</td>\n",
       "            </tr>\n",
       "    </tbody></table>"
      ],
      "text/plain": [
       "<pandas.io.formats.style.Styler at 0x18fa31555c0>"
      ]
     },
     "execution_count": 183,
     "metadata": {},
     "output_type": "execute_result"
    }
   ],
   "source": [
    "pmi.sort_values(by=pmi.columns[0], ascending=False).head(15).fillna(0).style.background_gradient(axis=0)"
   ]
  },
  {
   "cell_type": "code",
   "execution_count": 142,
   "metadata": {},
   "outputs": [
    {
     "data": {
      "text/html": [
       "<style  type=\"text/css\" >\n",
       "    #T_8e148776_04e5_11ea_a324_000acd2bfab2row0_col0 {\n",
       "            background-color:  #fff7fb;\n",
       "            color:  #000000;\n",
       "        }    #T_8e148776_04e5_11ea_a324_000acd2bfab2row0_col1 {\n",
       "            background-color:  #81aed2;\n",
       "            color:  #000000;\n",
       "        }    #T_8e148776_04e5_11ea_a324_000acd2bfab2row0_col2 {\n",
       "            background-color:  #91b5d6;\n",
       "            color:  #000000;\n",
       "        }    #T_8e148776_04e5_11ea_a324_000acd2bfab2row0_col3 {\n",
       "            background-color:  #023858;\n",
       "            color:  #f1f1f1;\n",
       "        }    #T_8e148776_04e5_11ea_a324_000acd2bfab2row0_col4 {\n",
       "            background-color:  #dbdaeb;\n",
       "            color:  #000000;\n",
       "        }    #T_8e148776_04e5_11ea_a324_000acd2bfab2row1_col0 {\n",
       "            background-color:  #adc1dd;\n",
       "            color:  #000000;\n",
       "        }    #T_8e148776_04e5_11ea_a324_000acd2bfab2row1_col1 {\n",
       "            background-color:  #fff7fb;\n",
       "            color:  #000000;\n",
       "        }    #T_8e148776_04e5_11ea_a324_000acd2bfab2row1_col2 {\n",
       "            background-color:  #2f8bbe;\n",
       "            color:  #000000;\n",
       "        }    #T_8e148776_04e5_11ea_a324_000acd2bfab2row1_col3 {\n",
       "            background-color:  #99b8d8;\n",
       "            color:  #000000;\n",
       "        }    #T_8e148776_04e5_11ea_a324_000acd2bfab2row1_col4 {\n",
       "            background-color:  #023858;\n",
       "            color:  #f1f1f1;\n",
       "        }    #T_8e148776_04e5_11ea_a324_000acd2bfab2row2_col0 {\n",
       "            background-color:  #023858;\n",
       "            color:  #f1f1f1;\n",
       "        }    #T_8e148776_04e5_11ea_a324_000acd2bfab2row2_col1 {\n",
       "            background-color:  #fff7fb;\n",
       "            color:  #000000;\n",
       "        }    #T_8e148776_04e5_11ea_a324_000acd2bfab2row2_col2 {\n",
       "            background-color:  #03456c;\n",
       "            color:  #f1f1f1;\n",
       "        }    #T_8e148776_04e5_11ea_a324_000acd2bfab2row2_col3 {\n",
       "            background-color:  #b4c4df;\n",
       "            color:  #000000;\n",
       "        }    #T_8e148776_04e5_11ea_a324_000acd2bfab2row2_col4 {\n",
       "            background-color:  #056ba7;\n",
       "            color:  #f1f1f1;\n",
       "        }    #T_8e148776_04e5_11ea_a324_000acd2bfab2row3_col0 {\n",
       "            background-color:  #fff7fb;\n",
       "            color:  #000000;\n",
       "        }    #T_8e148776_04e5_11ea_a324_000acd2bfab2row3_col1 {\n",
       "            background-color:  #f7f0f7;\n",
       "            color:  #000000;\n",
       "        }    #T_8e148776_04e5_11ea_a324_000acd2bfab2row3_col2 {\n",
       "            background-color:  #e0dded;\n",
       "            color:  #000000;\n",
       "        }    #T_8e148776_04e5_11ea_a324_000acd2bfab2row3_col3 {\n",
       "            background-color:  #023858;\n",
       "            color:  #f1f1f1;\n",
       "        }    #T_8e148776_04e5_11ea_a324_000acd2bfab2row3_col4 {\n",
       "            background-color:  #2c89bd;\n",
       "            color:  #000000;\n",
       "        }    #T_8e148776_04e5_11ea_a324_000acd2bfab2row4_col0 {\n",
       "            background-color:  #fff7fb;\n",
       "            color:  #000000;\n",
       "        }    #T_8e148776_04e5_11ea_a324_000acd2bfab2row4_col1 {\n",
       "            background-color:  #5a9ec9;\n",
       "            color:  #000000;\n",
       "        }    #T_8e148776_04e5_11ea_a324_000acd2bfab2row4_col2 {\n",
       "            background-color:  #023858;\n",
       "            color:  #f1f1f1;\n",
       "        }    #T_8e148776_04e5_11ea_a324_000acd2bfab2row4_col3 {\n",
       "            background-color:  #0567a2;\n",
       "            color:  #f1f1f1;\n",
       "        }    #T_8e148776_04e5_11ea_a324_000acd2bfab2row4_col4 {\n",
       "            background-color:  #046097;\n",
       "            color:  #f1f1f1;\n",
       "        }    #T_8e148776_04e5_11ea_a324_000acd2bfab2row5_col0 {\n",
       "            background-color:  #023858;\n",
       "            color:  #f1f1f1;\n",
       "        }    #T_8e148776_04e5_11ea_a324_000acd2bfab2row5_col1 {\n",
       "            background-color:  #4094c3;\n",
       "            color:  #000000;\n",
       "        }    #T_8e148776_04e5_11ea_a324_000acd2bfab2row5_col2 {\n",
       "            background-color:  #dbdaeb;\n",
       "            color:  #000000;\n",
       "        }    #T_8e148776_04e5_11ea_a324_000acd2bfab2row5_col3 {\n",
       "            background-color:  #fff7fb;\n",
       "            color:  #000000;\n",
       "        }    #T_8e148776_04e5_11ea_a324_000acd2bfab2row5_col4 {\n",
       "            background-color:  #fcf4fa;\n",
       "            color:  #000000;\n",
       "        }    #T_8e148776_04e5_11ea_a324_000acd2bfab2row6_col0 {\n",
       "            background-color:  #fff7fb;\n",
       "            color:  #000000;\n",
       "        }    #T_8e148776_04e5_11ea_a324_000acd2bfab2row6_col1 {\n",
       "            background-color:  #fff7fb;\n",
       "            color:  #000000;\n",
       "        }    #T_8e148776_04e5_11ea_a324_000acd2bfab2row6_col2 {\n",
       "            background-color:  #f1ebf5;\n",
       "            color:  #000000;\n",
       "        }    #T_8e148776_04e5_11ea_a324_000acd2bfab2row6_col3 {\n",
       "            background-color:  #023858;\n",
       "            color:  #f1f1f1;\n",
       "        }    #T_8e148776_04e5_11ea_a324_000acd2bfab2row6_col4 {\n",
       "            background-color:  #faf3f9;\n",
       "            color:  #000000;\n",
       "        }    #T_8e148776_04e5_11ea_a324_000acd2bfab2row7_col0 {\n",
       "            background-color:  #fef6fb;\n",
       "            color:  #000000;\n",
       "        }    #T_8e148776_04e5_11ea_a324_000acd2bfab2row7_col1 {\n",
       "            background-color:  #fff7fb;\n",
       "            color:  #000000;\n",
       "        }    #T_8e148776_04e5_11ea_a324_000acd2bfab2row7_col2 {\n",
       "            background-color:  #faf2f8;\n",
       "            color:  #000000;\n",
       "        }    #T_8e148776_04e5_11ea_a324_000acd2bfab2row7_col3 {\n",
       "            background-color:  #023858;\n",
       "            color:  #f1f1f1;\n",
       "        }    #T_8e148776_04e5_11ea_a324_000acd2bfab2row7_col4 {\n",
       "            background-color:  #2484ba;\n",
       "            color:  #000000;\n",
       "        }    #T_8e148776_04e5_11ea_a324_000acd2bfab2row8_col0 {\n",
       "            background-color:  #fff7fb;\n",
       "            color:  #000000;\n",
       "        }    #T_8e148776_04e5_11ea_a324_000acd2bfab2row8_col1 {\n",
       "            background-color:  #79abd0;\n",
       "            color:  #000000;\n",
       "        }    #T_8e148776_04e5_11ea_a324_000acd2bfab2row8_col2 {\n",
       "            background-color:  #045d92;\n",
       "            color:  #f1f1f1;\n",
       "        }    #T_8e148776_04e5_11ea_a324_000acd2bfab2row8_col3 {\n",
       "            background-color:  #023858;\n",
       "            color:  #f1f1f1;\n",
       "        }    #T_8e148776_04e5_11ea_a324_000acd2bfab2row8_col4 {\n",
       "            background-color:  #023a5b;\n",
       "            color:  #f1f1f1;\n",
       "        }    #T_8e148776_04e5_11ea_a324_000acd2bfab2row9_col0 {\n",
       "            background-color:  #fff7fb;\n",
       "            color:  #000000;\n",
       "        }    #T_8e148776_04e5_11ea_a324_000acd2bfab2row9_col1 {\n",
       "            background-color:  #ebe6f2;\n",
       "            color:  #000000;\n",
       "        }    #T_8e148776_04e5_11ea_a324_000acd2bfab2row9_col2 {\n",
       "            background-color:  #c4cbe3;\n",
       "            color:  #000000;\n",
       "        }    #T_8e148776_04e5_11ea_a324_000acd2bfab2row9_col3 {\n",
       "            background-color:  #023858;\n",
       "            color:  #f1f1f1;\n",
       "        }    #T_8e148776_04e5_11ea_a324_000acd2bfab2row9_col4 {\n",
       "            background-color:  #efe9f3;\n",
       "            color:  #000000;\n",
       "        }    #T_8e148776_04e5_11ea_a324_000acd2bfab2row10_col0 {\n",
       "            background-color:  #fff7fb;\n",
       "            color:  #000000;\n",
       "        }    #T_8e148776_04e5_11ea_a324_000acd2bfab2row10_col1 {\n",
       "            background-color:  #023858;\n",
       "            color:  #f1f1f1;\n",
       "        }    #T_8e148776_04e5_11ea_a324_000acd2bfab2row10_col2 {\n",
       "            background-color:  #04588a;\n",
       "            color:  #f1f1f1;\n",
       "        }    #T_8e148776_04e5_11ea_a324_000acd2bfab2row10_col3 {\n",
       "            background-color:  #04598c;\n",
       "            color:  #f1f1f1;\n",
       "        }    #T_8e148776_04e5_11ea_a324_000acd2bfab2row10_col4 {\n",
       "            background-color:  #a4bcda;\n",
       "            color:  #000000;\n",
       "        }    #T_8e148776_04e5_11ea_a324_000acd2bfab2row11_col0 {\n",
       "            background-color:  #3b92c1;\n",
       "            color:  #000000;\n",
       "        }    #T_8e148776_04e5_11ea_a324_000acd2bfab2row11_col1 {\n",
       "            background-color:  #023858;\n",
       "            color:  #f1f1f1;\n",
       "        }    #T_8e148776_04e5_11ea_a324_000acd2bfab2row11_col2 {\n",
       "            background-color:  #f0eaf4;\n",
       "            color:  #000000;\n",
       "        }    #T_8e148776_04e5_11ea_a324_000acd2bfab2row11_col3 {\n",
       "            background-color:  #fff7fb;\n",
       "            color:  #000000;\n",
       "        }    #T_8e148776_04e5_11ea_a324_000acd2bfab2row11_col4 {\n",
       "            background-color:  #bfc9e1;\n",
       "            color:  #000000;\n",
       "        }    #T_8e148776_04e5_11ea_a324_000acd2bfab2row12_col0 {\n",
       "            background-color:  #fff7fb;\n",
       "            color:  #000000;\n",
       "        }    #T_8e148776_04e5_11ea_a324_000acd2bfab2row12_col1 {\n",
       "            background-color:  #fff7fb;\n",
       "            color:  #000000;\n",
       "        }    #T_8e148776_04e5_11ea_a324_000acd2bfab2row12_col2 {\n",
       "            background-color:  #fff7fb;\n",
       "            color:  #000000;\n",
       "        }    #T_8e148776_04e5_11ea_a324_000acd2bfab2row12_col3 {\n",
       "            background-color:  #023858;\n",
       "            color:  #f1f1f1;\n",
       "        }    #T_8e148776_04e5_11ea_a324_000acd2bfab2row12_col4 {\n",
       "            background-color:  #fff7fb;\n",
       "            color:  #000000;\n",
       "        }    #T_8e148776_04e5_11ea_a324_000acd2bfab2row13_col0 {\n",
       "            background-color:  #023858;\n",
       "            color:  #f1f1f1;\n",
       "        }    #T_8e148776_04e5_11ea_a324_000acd2bfab2row13_col1 {\n",
       "            background-color:  #056dab;\n",
       "            color:  #f1f1f1;\n",
       "        }    #T_8e148776_04e5_11ea_a324_000acd2bfab2row13_col2 {\n",
       "            background-color:  #fff7fb;\n",
       "            color:  #000000;\n",
       "        }    #T_8e148776_04e5_11ea_a324_000acd2bfab2row13_col3 {\n",
       "            background-color:  #69a5cc;\n",
       "            color:  #000000;\n",
       "        }    #T_8e148776_04e5_11ea_a324_000acd2bfab2row13_col4 {\n",
       "            background-color:  #e9e5f1;\n",
       "            color:  #000000;\n",
       "        }    #T_8e148776_04e5_11ea_a324_000acd2bfab2row14_col0 {\n",
       "            background-color:  #fff7fb;\n",
       "            color:  #000000;\n",
       "        }    #T_8e148776_04e5_11ea_a324_000acd2bfab2row14_col1 {\n",
       "            background-color:  #dcdaeb;\n",
       "            color:  #000000;\n",
       "        }    #T_8e148776_04e5_11ea_a324_000acd2bfab2row14_col2 {\n",
       "            background-color:  #023858;\n",
       "            color:  #f1f1f1;\n",
       "        }    #T_8e148776_04e5_11ea_a324_000acd2bfab2row14_col3 {\n",
       "            background-color:  #d4d4e8;\n",
       "            color:  #000000;\n",
       "        }    #T_8e148776_04e5_11ea_a324_000acd2bfab2row14_col4 {\n",
       "            background-color:  #f9f2f8;\n",
       "            color:  #000000;\n",
       "        }</style><table id=\"T_8e148776_04e5_11ea_a324_000acd2bfab2\" ><thead>    <tr>        <th class=\"blank level0\" ></th>        <th class=\"col_heading level0 col0\" >1950</th>        <th class=\"col_heading level0 col1\" >1960</th>        <th class=\"col_heading level0 col2\" >1970</th>        <th class=\"col_heading level0 col3\" >1980</th>        <th class=\"col_heading level0 col4\" >1990</th>    </tr></thead><tbody>\n",
       "                <tr>\n",
       "                        <th id=\"T_8e148776_04e5_11ea_a324_000acd2bfab2level0_row0\" class=\"row_heading level0 row0\" >forkjølelse</th>\n",
       "                        <td id=\"T_8e148776_04e5_11ea_a324_000acd2bfab2row0_col0\" class=\"data row0 col0\" >0.0327151</td>\n",
       "                        <td id=\"T_8e148776_04e5_11ea_a324_000acd2bfab2row0_col1\" class=\"data row0 col1\" >0.0497996</td>\n",
       "                        <td id=\"T_8e148776_04e5_11ea_a324_000acd2bfab2row0_col2\" class=\"data row0 col2\" >0.0483641</td>\n",
       "                        <td id=\"T_8e148776_04e5_11ea_a324_000acd2bfab2row0_col3\" class=\"data row0 col3\" >0.0694468</td>\n",
       "                        <td id=\"T_8e148776_04e5_11ea_a324_000acd2bfab2row0_col4\" class=\"data row0 col4\" >0.0400448</td>\n",
       "            </tr>\n",
       "            <tr>\n",
       "                        <th id=\"T_8e148776_04e5_11ea_a324_000acd2bfab2level0_row1\" class=\"row_heading level0 row1\" >influensa</th>\n",
       "                        <td id=\"T_8e148776_04e5_11ea_a324_000acd2bfab2row1_col0\" class=\"data row1 col0\" >0.0138482</td>\n",
       "                        <td id=\"T_8e148776_04e5_11ea_a324_000acd2bfab2row1_col1\" class=\"data row1 col1\" >0.0114498</td>\n",
       "                        <td id=\"T_8e148776_04e5_11ea_a324_000acd2bfab2row1_col2\" class=\"data row1 col2\" >0.015809</td>\n",
       "                        <td id=\"T_8e148776_04e5_11ea_a324_000acd2bfab2row1_col3\" class=\"data row1 col3\" >0.0142267</td>\n",
       "                        <td id=\"T_8e148776_04e5_11ea_a324_000acd2bfab2row1_col4\" class=\"data row1 col4\" >0.018232</td>\n",
       "            </tr>\n",
       "            <tr>\n",
       "                        <th id=\"T_8e148776_04e5_11ea_a324_000acd2bfab2level0_row2\" class=\"row_heading level0 row2\" >vaksine</th>\n",
       "                        <td id=\"T_8e148776_04e5_11ea_a324_000acd2bfab2row2_col0\" class=\"data row2 col0\" >0.0195096</td>\n",
       "                        <td id=\"T_8e148776_04e5_11ea_a324_000acd2bfab2row2_col1\" class=\"data row2 col1\" >0.00919875</td>\n",
       "                        <td id=\"T_8e148776_04e5_11ea_a324_000acd2bfab2row2_col2\" class=\"data row2 col2\" >0.019019</td>\n",
       "                        <td id=\"T_8e148776_04e5_11ea_a324_000acd2bfab2row2_col3\" class=\"data row2 col3\" >0.012653</td>\n",
       "                        <td id=\"T_8e148776_04e5_11ea_a324_000acd2bfab2row2_col4\" class=\"data row2 col4\" >0.0172378</td>\n",
       "            </tr>\n",
       "            <tr>\n",
       "                        <th id=\"T_8e148776_04e5_11ea_a324_000acd2bfab2level0_row3\" class=\"row_heading level0 row3\" >feber</th>\n",
       "                        <td id=\"T_8e148776_04e5_11ea_a324_000acd2bfab2row3_col0\" class=\"data row3 col0\" >0.00340422</td>\n",
       "                        <td id=\"T_8e148776_04e5_11ea_a324_000acd2bfab2row3_col1\" class=\"data row3 col1\" >0.00374881</td>\n",
       "                        <td id=\"T_8e148776_04e5_11ea_a324_000acd2bfab2row3_col2\" class=\"data row3 col2\" >0.00461654</td>\n",
       "                        <td id=\"T_8e148776_04e5_11ea_a324_000acd2bfab2row3_col3\" class=\"data row3 col3\" >0.0100431</td>\n",
       "                        <td id=\"T_8e148776_04e5_11ea_a324_000acd2bfab2row3_col4\" class=\"data row3 col4\" >0.00772979</td>\n",
       "            </tr>\n",
       "            <tr>\n",
       "                        <th id=\"T_8e148776_04e5_11ea_a324_000acd2bfab2level0_row4\" class=\"row_heading level0 row4\" >sengeliggende</th>\n",
       "                        <td id=\"T_8e148776_04e5_11ea_a324_000acd2bfab2row4_col0\" class=\"data row4 col0\" >0.00531262</td>\n",
       "                        <td id=\"T_8e148776_04e5_11ea_a324_000acd2bfab2row4_col1\" class=\"data row4 col1\" >0.00845571</td>\n",
       "                        <td id=\"T_8e148776_04e5_11ea_a324_000acd2bfab2row4_col2\" class=\"data row4 col2\" >0.0110055</td>\n",
       "                        <td id=\"T_8e148776_04e5_11ea_a324_000acd2bfab2row4_col3\" class=\"data row4 col3\" >0.0098638</td>\n",
       "                        <td id=\"T_8e148776_04e5_11ea_a324_000acd2bfab2row4_col4\" class=\"data row4 col4\" >0.0100754</td>\n",
       "            </tr>\n",
       "            <tr>\n",
       "                        <th id=\"T_8e148776_04e5_11ea_a324_000acd2bfab2level0_row5\" class=\"row_heading level0 row5\" >lungebetennelse</th>\n",
       "                        <td id=\"T_8e148776_04e5_11ea_a324_000acd2bfab2row5_col0\" class=\"data row5 col0\" >0.031437</td>\n",
       "                        <td id=\"T_8e148776_04e5_11ea_a324_000acd2bfab2row5_col1\" class=\"data row5 col1\" >0.0228154</td>\n",
       "                        <td id=\"T_8e148776_04e5_11ea_a324_000acd2bfab2row5_col2\" class=\"data row5 col2\" >0.0139693</td>\n",
       "                        <td id=\"T_8e148776_04e5_11ea_a324_000acd2bfab2row5_col3\" class=\"data row5 col3\" >0.00959096</td>\n",
       "                        <td id=\"T_8e148776_04e5_11ea_a324_000acd2bfab2row5_col4\" class=\"data row5 col4\" >0.0100889</td>\n",
       "            </tr>\n",
       "            <tr>\n",
       "                        <th id=\"T_8e148776_04e5_11ea_a324_000acd2bfab2level0_row6\" class=\"row_heading level0 row6\" >doser</th>\n",
       "                        <td id=\"T_8e148776_04e5_11ea_a324_000acd2bfab2row6_col0\" class=\"data row6 col0\" >6.88345e-05</td>\n",
       "                        <td id=\"T_8e148776_04e5_11ea_a324_000acd2bfab2row6_col1\" class=\"data row6 col1\" >6.41561e-05</td>\n",
       "                        <td id=\"T_8e148776_04e5_11ea_a324_000acd2bfab2row6_col2\" class=\"data row6 col2\" >0.00084501</td>\n",
       "                        <td id=\"T_8e148776_04e5_11ea_a324_000acd2bfab2row6_col3\" class=\"data row6 col3\" >0.00853797</td>\n",
       "                        <td id=\"T_8e148776_04e5_11ea_a324_000acd2bfab2row6_col4\" class=\"data row6 col4\" >0.00035356</td>\n",
       "            </tr>\n",
       "            <tr>\n",
       "                        <th id=\"T_8e148776_04e5_11ea_a324_000acd2bfab2level0_row7\" class=\"row_heading level0 row7\" >virksom</th>\n",
       "                        <td id=\"T_8e148776_04e5_11ea_a324_000acd2bfab2row7_col0\" class=\"data row7 col0\" >4.66662e-05</td>\n",
       "                        <td id=\"T_8e148776_04e5_11ea_a324_000acd2bfab2row7_col1\" class=\"data row7 col1\" >0</td>\n",
       "                        <td id=\"T_8e148776_04e5_11ea_a324_000acd2bfab2row7_col2\" class=\"data row7 col2\" >0.000268534</td>\n",
       "                        <td id=\"T_8e148776_04e5_11ea_a324_000acd2bfab2row7_col3\" class=\"data row7 col3\" >0.00730055</td>\n",
       "                        <td id=\"T_8e148776_04e5_11ea_a324_000acd2bfab2row7_col4\" class=\"data row7 col4\" >0.00488783</td>\n",
       "            </tr>\n",
       "            <tr>\n",
       "                        <th id=\"T_8e148776_04e5_11ea_a324_000acd2bfab2level0_row8\" class=\"row_heading level0 row8\" >pådratt</th>\n",
       "                        <td id=\"T_8e148776_04e5_11ea_a324_000acd2bfab2row8_col0\" class=\"data row8 col0\" >0.00301637</td>\n",
       "                        <td id=\"T_8e148776_04e5_11ea_a324_000acd2bfab2row8_col1\" class=\"data row8 col1\" >0.00498619</td>\n",
       "                        <td id=\"T_8e148776_04e5_11ea_a324_000acd2bfab2row8_col2\" class=\"data row8 col2\" >0.00648443</td>\n",
       "                        <td id=\"T_8e148776_04e5_11ea_a324_000acd2bfab2row8_col3\" class=\"data row8 col3\" >0.00705924</td>\n",
       "                        <td id=\"T_8e148776_04e5_11ea_a324_000acd2bfab2row8_col4\" class=\"data row8 col4\" >0.0070158</td>\n",
       "            </tr>\n",
       "            <tr>\n",
       "                        <th id=\"T_8e148776_04e5_11ea_a324_000acd2bfab2level0_row9\" class=\"row_heading level0 row9\" >hodepine</th>\n",
       "                        <td id=\"T_8e148776_04e5_11ea_a324_000acd2bfab2row9_col0\" class=\"data row9 col0\" >0.00134936</td>\n",
       "                        <td id=\"T_8e148776_04e5_11ea_a324_000acd2bfab2row9_col1\" class=\"data row9 col1\" >0.00182617</td>\n",
       "                        <td id=\"T_8e148776_04e5_11ea_a324_000acd2bfab2row9_col2\" class=\"data row9 col2\" >0.00240386</td>\n",
       "                        <td id=\"T_8e148776_04e5_11ea_a324_000acd2bfab2row9_col3\" class=\"data row9 col3\" >0.00499856</td>\n",
       "                        <td id=\"T_8e148776_04e5_11ea_a324_000acd2bfab2row9_col4\" class=\"data row9 col4\" >0.00174746</td>\n",
       "            </tr>\n",
       "            <tr>\n",
       "                        <th id=\"T_8e148776_04e5_11ea_a324_000acd2bfab2level0_row10\" class=\"row_heading level0 row10\" >vaksinasjon</th>\n",
       "                        <td id=\"T_8e148776_04e5_11ea_a324_000acd2bfab2row10_col0\" class=\"data row10 col0\" >0.00171793</td>\n",
       "                        <td id=\"T_8e148776_04e5_11ea_a324_000acd2bfab2row10_col1\" class=\"data row10 col1\" >0.00462561</td>\n",
       "                        <td id=\"T_8e148776_04e5_11ea_a324_000acd2bfab2row10_col2\" class=\"data row10 col2\" >0.00428376</td>\n",
       "                        <td id=\"T_8e148776_04e5_11ea_a324_000acd2bfab2row10_col3\" class=\"data row10 col3\" >0.00426598</td>\n",
       "                        <td id=\"T_8e148776_04e5_11ea_a324_000acd2bfab2row10_col4\" class=\"data row10 col4\" >0.00282207</td>\n",
       "            </tr>\n",
       "            <tr>\n",
       "                        <th id=\"T_8e148776_04e5_11ea_a324_000acd2bfab2level0_row11\" class=\"row_heading level0 row11\" >NTB</th>\n",
       "                        <td id=\"T_8e148776_04e5_11ea_a324_000acd2bfab2row11_col0\" class=\"data row11 col0\" >0.00745721</td>\n",
       "                        <td id=\"T_8e148776_04e5_11ea_a324_000acd2bfab2row11_col1\" class=\"data row11 col1\" >0.00950177</td>\n",
       "                        <td id=\"T_8e148776_04e5_11ea_a324_000acd2bfab2row11_col2\" class=\"data row11 col2\" >0.00472569</td>\n",
       "                        <td id=\"T_8e148776_04e5_11ea_a324_000acd2bfab2row11_col3\" class=\"data row11 col3\" >0.0041665</td>\n",
       "                        <td id=\"T_8e148776_04e5_11ea_a324_000acd2bfab2row11_col4\" class=\"data row11 col4\" >0.00577887</td>\n",
       "            </tr>\n",
       "            <tr>\n",
       "                        <th id=\"T_8e148776_04e5_11ea_a324_000acd2bfab2level0_row12\" class=\"row_heading level0 row12\" >nedsettelse</th>\n",
       "                        <td id=\"T_8e148776_04e5_11ea_a324_000acd2bfab2row12_col0\" class=\"data row12 col0\" >0</td>\n",
       "                        <td id=\"T_8e148776_04e5_11ea_a324_000acd2bfab2row12_col1\" class=\"data row12 col1\" >0</td>\n",
       "                        <td id=\"T_8e148776_04e5_11ea_a324_000acd2bfab2row12_col2\" class=\"data row12 col2\" >0</td>\n",
       "                        <td id=\"T_8e148776_04e5_11ea_a324_000acd2bfab2row12_col3\" class=\"data row12 col3\" >0.00406619</td>\n",
       "                        <td id=\"T_8e148776_04e5_11ea_a324_000acd2bfab2row12_col4\" class=\"data row12 col4\" >0</td>\n",
       "            </tr>\n",
       "            <tr>\n",
       "                        <th id=\"T_8e148776_04e5_11ea_a324_000acd2bfab2level0_row13\" class=\"row_heading level0 row13\" >epidemier</th>\n",
       "                        <td id=\"T_8e148776_04e5_11ea_a324_000acd2bfab2row13_col0\" class=\"data row13 col0\" >0.00547218</td>\n",
       "                        <td id=\"T_8e148776_04e5_11ea_a324_000acd2bfab2row13_col1\" class=\"data row13 col1\" >0.00474235</td>\n",
       "                        <td id=\"T_8e148776_04e5_11ea_a324_000acd2bfab2row13_col2\" class=\"data row13 col2\" >0.00232024</td>\n",
       "                        <td id=\"T_8e148776_04e5_11ea_a324_000acd2bfab2row13_col3\" class=\"data row13 col3\" >0.00396929</td>\n",
       "                        <td id=\"T_8e148776_04e5_11ea_a324_000acd2bfab2row13_col4\" class=\"data row13 col4\" >0.00275874</td>\n",
       "            </tr>\n",
       "            <tr>\n",
       "                        <th id=\"T_8e148776_04e5_11ea_a324_000acd2bfab2level0_row14\" class=\"row_heading level0 row14\" >übehag</th>\n",
       "                        <td id=\"T_8e148776_04e5_11ea_a324_000acd2bfab2row14_col0\" class=\"data row14 col0\" >8.63657e-05</td>\n",
       "                        <td id=\"T_8e148776_04e5_11ea_a324_000acd2bfab2row14_col1\" class=\"data row14 col1\" >0.00326008</td>\n",
       "                        <td id=\"T_8e148776_04e5_11ea_a324_000acd2bfab2row14_col2\" class=\"data row14 col2\" >0.016127</td>\n",
       "                        <td id=\"T_8e148776_04e5_11ea_a324_000acd2bfab2row14_col3\" class=\"data row14 col3\" >0.0038121</td>\n",
       "                        <td id=\"T_8e148776_04e5_11ea_a324_000acd2bfab2row14_col4\" class=\"data row14 col4\" >0.000728354</td>\n",
       "            </tr>\n",
       "    </tbody></table>"
      ],
      "text/plain": [
       "<pandas.io.formats.style.Styler at 0x18fa5ff92b0>"
      ]
     },
     "execution_count": 142,
     "metadata": {},
     "output_type": "execute_result"
    }
   ],
   "source": [
    "pmi.sort_values(by=pmi.columns[3], ascending=False).head(15).fillna(0).style.background_gradient(axis=1)"
   ]
  },
  {
   "cell_type": "markdown",
   "metadata": {},
   "source": [
    "<br>\n",
    "<br>"
   ]
  },
  {
   "cell_type": "code",
   "execution_count": 143,
   "metadata": {},
   "outputs": [
    {
     "data": {
      "image/png": "[encoded data removed]",
      "text/plain": [
       "<Figure size 864x432 with 1 Axes>"
      ]
     },
     "metadata": {
      "needs_background": "light"
     },
     "output_type": "display_data"
    }
   ],
   "source": [
    "pmi.sort_values(by=pmi.columns[3], ascending=False).head(5).fillna(0).transpose().plot(kind='bar', rot=20, figsize=(12, 6));"
   ]
  },
  {
   "cell_type": "markdown",
   "metadata": {},
   "source": [
    "<br>\n",
    "<br>\n",
    "<br>\n",
    "<br>\n",
    "\n",
    "# De hundre ordene med høyest assosiasjon for perioden 1965-1980 sortert på ordklasser"
   ]
  },
  {
   "cell_type": "code",
   "execution_count": 157,
   "metadata": {},
   "outputs": [
    {
     "data": {
      "text/markdown": [
       "## Benevnelser \n",
       "<span style='font-size:150%'>NTB, 11.00, Leeds, Franco, Symptomene, Sykdommen, 20.00, Aftenpostens, Geilo, 12.00, Grønvold, Sykdommer, Helsedirektoratet, Nationen, Kraftig, Brandbu, Evang, NM, Klinisk, Gjertsen, Været, Myhre, Hong, Sundby</span>"
      ],
      "text/plain": [
       "<IPython.core.display.Markdown object>"
      ]
     },
     "metadata": {},
     "output_type": "display_data"
    },
    {
     "data": {
      "text/markdown": [
       "## subst\n",
       "<span style='font-size:1.1em'>forkjølelse, vaksine, influensa, lungebetennelse, lindring, snev, feber, rode, vaksinasjon, diaré, overlege, rosen, akutt, virus, hodepine, spillere, epidemier, hunder, symptomer, troppen, malen, immunitet, rennet, syfilis, finalen, tuberkulose, spillerne, talsmann, distriktslege, nyttårsaften, legehjelp, nordmannen, mandag, årstiden, antistoffer, fjor, sykdommen, brekninger, tilbakefall</span>\n",
       "## unknown\n",
       "<span style='font-size:1.1em'>übehag, nodvendig, sengs, lopet, vanlegaste, køys, hoy, ifjor, vinterens</span>\n",
       "## adj\n",
       "<span style='font-size:1.1em'>sengeliggende, virksomme, langvarige, ondartet, smittsom, akutte, begynnende, plagsomme, asiatisk</span>\n",
       "## verb\n",
       "<span style='font-size:1.1em'>siver, pådratt, smerter, plager, plaget, avlyst, opplyser, vitja, anbefales, plages, meldt, brygger, forfall, rammet, herjet, kurere, uteble, forkjølet, sliter</span>\n"
      ],
      "text/plain": [
       "<IPython.core.display.Markdown object>"
      ]
     },
     "metadata": {},
     "output_type": "display_data"
    }
   ],
   "source": [
    "mdprint(pmi.sort_values(by=pmi.columns[2], ascending=False).head(100),-1)"
   ]
  },
  {
   "cell_type": "markdown",
   "metadata": {},
   "source": [
    "# Hvordan utvikler ordene seg?"
   ]
  },
  {
   "cell_type": "code",
   "execution_count": 158,
   "metadata": {},
   "outputs": [],
   "source": [
    "barchart = lambda w, title='': pmi.loc[w].transpose().plot(kind='bar',title=title, rot=20, figsize=(12,6)) ;"
   ]
  },
  {
   "cell_type": "code",
   "execution_count": 159,
   "metadata": {},
   "outputs": [
    {
     "data": {
      "image/png": "[encoded data removed]",
      "text/plain": [
       "<Figure size 864x432 with 1 Axes>"
      ]
     },
     "metadata": {
      "needs_background": "light"
     },
     "output_type": "display_data"
    }
   ],
   "source": [
    "barchart(['helse','kreft',\"sengeliggende\", 'arbeidsplassen'], 'Utvalgte ord');"
   ]
  },
  {
   "cell_type": "markdown",
   "metadata": {},
   "source": [
    "<br>\n",
    "<br>\n",
    "\n",
    "# Sjekk ut vanlige ord\n",
    "\n",
    "Bare for å se at de har lave verdier og er stabile gjennom kollokasjonen"
   ]
  },
  {
   "cell_type": "code",
   "execution_count": 160,
   "metadata": {},
   "outputs": [
    {
     "data": {
      "image/png": "[encoded data removed]",
      "text/plain": [
       "<Figure size 864x432 with 1 Axes>"
      ]
     },
     "metadata": {
      "needs_background": "light"
     },
     "output_type": "display_data"
    }
   ],
   "source": [
    "barchart(['.','og', ',','eller', 'men'], 'Punktueringer og vanlige ord');"
   ]
  },
  {
   "cell_type": "markdown",
   "metadata": {},
   "source": [
    "<br>\n",
    "<br>\n",
    "\n",
    "# De fremste blandt topoi \n",
    "\n",
    "Merk at på grunn av louvain-algoritmen kan topoiene endre seg litt fra kjøring til kjøring"
   ]
  },
  {
   "cell_type": "code",
   "execution_count": 172,
   "metadata": {},
   "outputs": [],
   "source": [
    "commchart = lambda x, part =(1,6): barchart(comm[list(comm.keys())[x]][part[0]:part[1]], list(comm.keys())[x]);"
   ]
  },
  {
   "cell_type": "code",
   "execution_count": 174,
   "metadata": {},
   "outputs": [
    {
     "data": {
      "image/png": "[encoded data removed]",
      "text/plain": [
       "<Figure size 864x432 with 1 Axes>"
      ]
     },
     "metadata": {
      "needs_background": "light"
     },
     "output_type": "display_data"
    }
   ],
   "source": [
    "commchart(2, (0,5));"
   ]
  },
  {
   "cell_type": "code",
   "execution_count": 178,
   "metadata": {},
   "outputs": [
    {
     "data": {
      "text/plain": [
       "<matplotlib.axes._subplots.AxesSubplot at 0x18fa32e05c0>"
      ]
     },
     "execution_count": 178,
     "metadata": {},
     "output_type": "execute_result"
    },
    {
     "data": {
      "image/png": "[encoded data removed]",
      "text/plain": [
       "<Figure size 864x432 with 1 Axes>"
      ]
     },
     "metadata": {
      "needs_background": "light"
     },
     "output_type": "display_data"
    }
   ],
   "source": [
    "commchart(1, (3, 8))"
   ]
  },
  {
   "cell_type": "code",
   "execution_count": 179,
   "metadata": {},
   "outputs": [
    {
     "data": {
      "text/plain": [
       "<matplotlib.axes._subplots.AxesSubplot at 0x18fa2e1dda0>"
      ]
     },
     "execution_count": 179,
     "metadata": {},
     "output_type": "execute_result"
    },
    {
     "data": {
      "image/png": "[encoded data removed]",
      "text/plain": [
       "<Figure size 864x432 with 1 Axes>"
      ]
     },
     "metadata": {
      "needs_background": "light"
     },
     "output_type": "display_data"
    }
   ],
   "source": [
    "commchart(3)"
   ]
  }
 ],
 "metadata": {
  "kernelspec": {
   "display_name": "Python 3",
   "language": "python",
   "name": "python3"
  },
  "language_info": {
   "codemirror_mode": {
    "name": "ipython",
    "version": 3
   },
   "file_extension": ".py",
   "mimetype": "text/x-python",
   "name": "python",
   "nbconvert_exporter": "python",
   "pygments_lexer": "ipython3",
   "version": "3.7.3"
  }
 },
 "nbformat": 4,
 "nbformat_minor": 2
}
